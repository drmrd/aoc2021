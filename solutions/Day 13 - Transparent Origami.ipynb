{
 "cells": [
  {
   "cell_type": "markdown",
   "id": "6c2ca872-a4df-4ce4-a232-dc91c502cc09",
   "metadata": {},
   "source": [
    "## Imports"
   ]
  },
  {
   "cell_type": "code",
   "execution_count": 1,
   "id": "add704d1-0ee4-4519-923f-d6f2a71829c1",
   "metadata": {},
   "outputs": [],
   "source": [
    "from enum import IntEnum\n",
    "\n",
    "import numpy as np\n",
    "\n",
    "from aoc_utilities import puzzle_input"
   ]
  },
  {
   "cell_type": "markdown",
   "id": "4186ca3f-9b42-43ac-b4bc-290a1e95989a",
   "metadata": {},
   "source": [
    "<h2>--- Day 13: Transparent Origami ---</h2><p>You reach another volcanically active part of the cave. It would be nice if you could do some kind of thermal imaging so you could tell ahead of time which caves are too hot to safely enter.</p>\n",
    "<p>Fortunately, the submarine seems to be equipped with a thermal camera! When you activate it, you are greeted with:</p>\n",
    "<pre><code>Congratulations on your purchase! To activate this infrared thermal imaging\n",
    "camera system, please enter the code found on page 1 of the manual.\n",
    "</code></pre>\n",
    "<p>Apparently, the Elves have never used this feature. To your surprise, you manage to find the manual; as you go to open it, page 1 falls out. It's a large sheet of <a href=\"https://en.wikipedia.org/wiki/Transparency_(projection)\" target=\"_blank\">transparent paper</a>! The transparent paper is marked with random dots and includes instructions on how to fold it up (your puzzle input). For example:</p>\n",
    "<pre><code>6,10\n",
    "0,14\n",
    "9,10\n",
    "0,3\n",
    "10,4\n",
    "4,11\n",
    "6,0\n",
    "6,12\n",
    "4,1\n",
    "0,13\n",
    "10,12\n",
    "3,4\n",
    "3,0\n",
    "8,4\n",
    "1,10\n",
    "2,14\n",
    "8,10\n",
    "9,0\n",
    "\n",
    "fold along y=7\n",
    "fold along x=5\n",
    "</code></pre>\n",
    "<p>The first section is a list of dots on the transparent paper. <code>0,0</code> represents the top-left coordinate.  The first value, <code>x</code>, increases to the right.  The second value, <code>y</code>, increases downward.  So, the coordinate <code>3,0</code> is to the right of <code>0,0</code>, and the coordinate <code>0,7</code> is below <code>0,0</code>. The coordinates in this example form the following pattern, where <code>#</code> is a dot on the paper and <code>.</code> is an empty, unmarked position:</p>\n",
    "<pre><code>...#..#..#.\n",
    "....#......\n",
    "...........\n",
    "#..........\n",
    "...#....#.#\n",
    "...........\n",
    "...........\n",
    "...........\n",
    "...........\n",
    "...........\n",
    ".#....#.##.\n",
    "....#......\n",
    "......#...#\n",
    "#..........\n",
    "#.#........\n",
    "</code></pre>\n",
    "<p>Then, there is a list of <em>fold instructions</em>. Each instruction indicates a line on the transparent paper and wants you to fold the paper <em>up</em> (for horizontal <code>y=...</code> lines) or <em>left</em> (for vertical <code>x=...</code> lines). In this example, the first fold instruction is <code>fold along y=7</code>, which designates the line formed by all of the positions where <code>y</code> is <code>7</code> (marked here with <code>-</code>):</p>\n",
    "<pre><code>...#..#..#.\n",
    "....#......\n",
    "...........\n",
    "#..........\n",
    "...#....#.#\n",
    "...........\n",
    "...........\n",
    "-----------\n",
    "...........\n",
    "...........\n",
    ".#....#.##.\n",
    "....#......\n",
    "......#...#\n",
    "#..........\n",
    "#.#........\n",
    "</code></pre>\n",
    "<p>Because this is a horizontal line, fold the bottom half <em>up</em>. Some of the dots might end up overlapping after the fold is complete, but dots will never appear exactly on a fold line. The result of doing this fold looks like this:</p>\n",
    "<pre><code>#.##..#..#.\n",
    "#...#......\n",
    "......#...#\n",
    "#...#......\n",
    ".#.#..#.###\n",
    "...........\n",
    "...........\n",
    "</code></pre>\n",
    "<p>Now, only <code>17</code> dots are visible.</p>\n",
    "<p>Notice, for example, the two dots in the bottom left corner before the transparent paper is folded; after the fold is complete, those dots appear in the top left corner (at <code>0,0</code> and <code>0,1</code>). Because the paper is transparent, the dot just below them in the result (at <code>0,3</code>) remains visible, as it can be seen through the transparent paper.</p>\n",
    "<p>Also notice that some dots can end up <em>overlapping</em>; in this case, the dots merge together and become a single dot.</p>\n",
    "<p>The second fold instruction is <code>fold along x=5</code>, which indicates this line:</p>\n",
    "<pre><code>#.##.|#..#.\n",
    "#...#|.....\n",
    ".....|#...#\n",
    "#...#|.....\n",
    ".#.#.|#.###\n",
    ".....|.....\n",
    ".....|.....\n",
    "</code></pre>\n",
    "<p>Because this is a vertical line, fold <em>left</em>:</p>\n",
    "<pre><code>#####\n",
    "#...#\n",
    "#...#\n",
    "#...#\n",
    "#####\n",
    ".....\n",
    ".....\n",
    "</code></pre>\n",
    "<p>The instructions made a square!</p>\n",
    "<p>The transparent paper is pretty big, so for now, focus on just completing the first fold. After the first fold in the example above, <code><em>17</em></code> dots are visible - dots that end up overlapping after the fold is completed count as a single dot.</p>\n",
    "<p><em>How many dots are visible after completing just the first fold instruction on your transparent paper?</em></p>\n"
   ]
  },
  {
   "cell_type": "markdown",
   "id": "41e0d11a-ae27-4be8-bfe2-7d943b8774b7",
   "metadata": {},
   "source": [
    "## Solution"
   ]
  },
  {
   "cell_type": "code",
   "execution_count": 2,
   "id": "2a674d2e-5454-46f7-91cc-7d74cead7d61",
   "metadata": {},
   "outputs": [],
   "source": [
    "class Axis(IntEnum):\n",
    "    X = 1\n",
    "    Y = 0\n",
    "\n",
    "\n",
    "def parse_transparency_dots_and_folds(origami_instructions):\n",
    "    dots, fold_instructions = origami_instructions.strip().split('\\n\\n')\n",
    "    dot_xs, dot_ys = (np.fromstring(dots.replace('\\n', ','), sep=',', dtype=int)\n",
    "                        .reshape(-1, 2)\n",
    "                        .transpose())\n",
    "\n",
    "    transparency = np.zeros((dot_ys.max() + 1, dot_xs.max() + 1), dtype=bool)\n",
    "    transparency[(dot_ys, dot_xs)] = True\n",
    "\n",
    "    fold_specifiers = (fold_instruction.rsplit(' ', maxsplit=1)[1].split('=')\n",
    "                       for fold_instruction in fold_instructions.split('\\n'))\n",
    "    folds = [(getattr(Axis, name.upper()), int(coordinate))\n",
    "             for name, coordinate in fold_specifiers]\n",
    "\n",
    "    return transparency, folds\n",
    "\n",
    "\n",
    "def fold(transparency, axis: Axis, coordinate):\n",
    "    untouched_axis_slices = (axis % transparency.ndim) * [slice(None)]\n",
    "    pre_fold_idx = tuple(untouched_axis_slices + [slice(coordinate)])\n",
    "    post_fold_idx = tuple(untouched_axis_slices + [slice(None, coordinate, -1)])\n",
    "    return transparency[pre_fold_idx] | transparency[post_fold_idx]"
   ]
  },
  {
   "cell_type": "markdown",
   "id": "98d44392-0bb1-4317-849a-a52e87b6005c",
   "metadata": {},
   "source": [
    "### Testing"
   ]
  },
  {
   "cell_type": "code",
   "execution_count": 3,
   "id": "24f9ce88-ef79-4a26-88df-b21c7e2a569b",
   "metadata": {},
   "outputs": [],
   "source": [
    "example_transparency, example_folds = parse_transparency_dots_and_folds('''\n",
    "    6,10\n",
    "    0,14\n",
    "    9,10\n",
    "    0,3\n",
    "    10,4\n",
    "    4,11\n",
    "    6,0\n",
    "    6,12\n",
    "    4,1\n",
    "    0,13\n",
    "    10,12\n",
    "    3,4\n",
    "    3,0\n",
    "    8,4\n",
    "    1,10\n",
    "    2,14\n",
    "    8,10\n",
    "    9,0\n",
    "\n",
    "    fold along y=7\n",
    "    fold along x=5\n",
    "''')\n",
    "\n",
    "assert fold(example_transparency, *example_folds[0]).sum() == 17"
   ]
  },
  {
   "cell_type": "markdown",
   "id": "98c4fd27-2c01-4952-b709-549e4773c956",
   "metadata": {},
   "source": [
    "### Answer"
   ]
  },
  {
   "cell_type": "code",
   "execution_count": 4,
   "id": "62e42506-e0b6-4989-8b3f-2754be9851df",
   "metadata": {},
   "outputs": [
    {
     "name": "stdout",
     "output_type": "stream",
     "text": [
      "Number of dots after the first fold: 671\n"
     ]
    }
   ],
   "source": [
    "transparency, folds = parse_transparency_dots_and_folds(\n",
    "    puzzle_input.as_text(day=13)\n",
    ")\n",
    "\n",
    "print(\n",
    "    'Number of dots after the first fold:',\n",
    "    fold(transparency, *folds[0]).sum()\n",
    ")"
   ]
  }
 ],
 "metadata": {
  "kernelspec": {
   "display_name": "Python 3 (ipykernel)",
   "language": "python",
   "name": "python3"
  },
  "language_info": {
   "codemirror_mode": {
    "name": "ipython",
    "version": 3
   },
   "file_extension": ".py",
   "mimetype": "text/x-python",
   "name": "python",
   "nbconvert_exporter": "python",
   "pygments_lexer": "ipython3",
   "version": "3.10.0"
  }
 },
 "nbformat": 4,
 "nbformat_minor": 5
}
