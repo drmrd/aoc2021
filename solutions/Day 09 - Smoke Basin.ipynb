{
 "cells": [
  {
   "cell_type": "markdown",
   "id": "bf7073b4-f6ce-43d5-a179-c0a22206a8de",
   "metadata": {},
   "source": [
    "## Imports"
   ]
  },
  {
   "cell_type": "code",
   "execution_count": 1,
   "id": "cce1497a-3478-4e83-bd1a-5c0b19652d42",
   "metadata": {},
   "outputs": [],
   "source": [
    "import numpy as np\n",
    "\n",
    "from scipy import ndimage\n",
    "\n",
    "from aoc_utilities import puzzle_input"
   ]
  },
  {
   "cell_type": "markdown",
   "id": "30c96031-9e38-458e-b990-628abba12b84",
   "metadata": {},
   "source": [
    "<h2>--- Day 9: Smoke Basin ---</h2><p>These caves seem to be <a href=\"https://en.wikipedia.org/wiki/Lava_tube\" target=\"_blank\">lava tubes</a>. Parts are even still volcanically active; small hydrothermal vents release smoke into the caves that slowly <span title=\"This was originally going to be a puzzle about watersheds, but we're already under water.\">settles like rain</span>.</p>\n",
    "<p>If you can model how the smoke flows through the caves, you might be able to avoid it and be that much safer. The submarine generates a heightmap of the floor of the nearby caves for you (your puzzle input).</p>\n",
    "<p>Smoke flows to the lowest point of the area it's in. For example, consider the following heightmap:</p>\n",
    "<pre><code>2<em>1</em>9994321<em>0</em>\n",
    "3987894921\n",
    "98<em>5</em>6789892\n",
    "8767896789\n",
    "989996<em>5</em>678\n",
    "</code></pre>\n",
    "<p>Each number corresponds to the height of a particular location, where <code>9</code> is the highest and <code>0</code> is the lowest a location can be.</p>\n",
    "<p>Your first goal is to find the <em>low points</em> - the locations that are lower than any of its adjacent locations. Most locations have four adjacent locations (up, down, left, and right); locations on the edge or corner of the map have three or two adjacent locations, respectively. (Diagonal locations do not count as adjacent.)</p>\n",
    "<p>In the above example, there are <em>four</em> low points, all highlighted: two are in the first row (a <code>1</code> and a <code>0</code>), one is in the third row (a <code>5</code>), and one is in the bottom row (also a <code>5</code>). All other locations on the heightmap have some lower adjacent location, and so are not low points.</p>\n",
    "<p>The <em>risk level</em> of a low point is <em>1 plus its height</em>. In the above example, the risk levels of the low points are <code>2</code>, <code>1</code>, <code>6</code>, and <code>6</code>. The sum of the risk levels of all low points in the heightmap is therefore <code><em>15</em></code>.</p>\n",
    "<p>Find all of the low points on your heightmap. <em>What is the sum of the risk levels of all low points on your heightmap?</em></p>\n"
   ]
  },
  {
   "cell_type": "markdown",
   "id": "89cb38a5-cd13-40e9-ab76-ed215a1e3a81",
   "metadata": {},
   "source": [
    "## Solution\n",
    "\n",
    "Oh what the hell. Let's do Part 1 the fun way with a filter, even if we'll probably get burned by doing so in Part 2!"
   ]
  },
  {
   "cell_type": "code",
   "execution_count": 2,
   "id": "d7d838b7-9c04-4a5f-b742-69dfe1abc40f",
   "metadata": {},
   "outputs": [],
   "source": [
    "def keep_local_minima(array: np.ndarray):\n",
    "    is_local_minimum = ndimage.filters.generic_filter(\n",
    "        array,\n",
    "        center_is_minimum,\n",
    "        footprint=np.array([\n",
    "            [0, 1, 0],\n",
    "            [1, 1, 1],\n",
    "            [0, 1, 0]\n",
    "        ]),\n",
    "        mode='constant',\n",
    "        cval=np.infty,\n",
    "        output=bool\n",
    "    )\n",
    "    return array[is_local_minimum]\n",
    "\n",
    "\n",
    "def center_is_minimum(inputs):\n",
    "    center_index = inputs.shape[0] // 2\n",
    "    center, others = inputs[center_index], np.delete(inputs, center_index)\n",
    "    return (center < others).all()"
   ]
  },
  {
   "cell_type": "markdown",
   "id": "5b2fb6b0-bf8f-40bb-9a68-702c491ef0de",
   "metadata": {},
   "source": [
    "### Testing"
   ]
  },
  {
   "cell_type": "code",
   "execution_count": 3,
   "id": "1ee9cfa2-c74f-4f83-8408-a1666e690524",
   "metadata": {},
   "outputs": [],
   "source": [
    "example_heightmap_printout = '''\n",
    "    2199943210\n",
    "    3987894921\n",
    "    9856789892\n",
    "    8767896789\n",
    "    9899965678\n",
    "'''\n",
    "\n",
    "example_heightmap = np.array([\n",
    "    [int(height) for height in line]\n",
    "    for line in example_heightmap_printout.split()\n",
    "])\n",
    "\n",
    "assert (keep_local_minima(example_heightmap) + 1).sum() == 15"
   ]
  },
  {
   "cell_type": "markdown",
   "id": "f75e1979-9940-483c-a659-cf7574871968",
   "metadata": {},
   "source": [
    "### Answer"
   ]
  },
  {
   "cell_type": "code",
   "execution_count": 4,
   "id": "eb9d670e-0213-4f14-b800-3fa1e575e04c",
   "metadata": {},
   "outputs": [
    {
     "name": "stdout",
     "output_type": "stream",
     "text": [
      "Sum of low point risk levels: 588\n"
     ]
    }
   ],
   "source": [
    "heightmap = np.array([\n",
    "    [int(height) for height in line]\n",
    "    for line in puzzle_input.as_text(day=9).split()\n",
    "])\n",
    "\n",
    "print(\n",
    "    'Sum of low point risk levels:',\n",
    "    (keep_local_minima(heightmap) + 1).sum()\n",
    ")"
   ]
  },
  {
   "cell_type": "markdown",
   "id": "79d21fd6-a77b-45de-8cf3-e2fbb5d9255d",
   "metadata": {},
   "source": [
    "<h2 id=\"part2\">--- Part Two ---</h2><p>Next, you need to find the largest basins so you know what areas are most important to avoid.</p>\n",
    "<p>A <em>basin</em> is all locations that eventually flow downward to a single low point. Therefore, every low point has a basin, although some basins are very small. Locations of height <code>9</code> do not count as being in any basin, and all other locations will always be part of exactly one basin.</p>\n",
    "<p>The <em>size</em> of a basin is the number of locations within the basin, including the low point. The example above has four basins.</p>\n",
    "<p>The top-left basin, size <code>3</code>:</p>\n",
    "<pre><code><em>21</em>99943210\n",
    "<em>3</em>987894921\n",
    "9856789892\n",
    "8767896789\n",
    "9899965678\n",
    "</code></pre>\n",
    "<p>The top-right basin, size <code>9</code>:</p>\n",
    "<pre><code>21999<em>43210</em>\n",
    "398789<em>4</em>9<em>21</em>\n",
    "985678989<em>2</em>\n",
    "8767896789\n",
    "9899965678\n",
    "</code></pre>\n",
    "<p>The middle basin, size <code>14</code>:</p>\n",
    "<pre><code>2199943210\n",
    "39<em>878</em>94921\n",
    "9<em>85678</em>9892\n",
    "<em>87678</em>96789\n",
    "9<em>8</em>99965678\n",
    "</code></pre>\n",
    "<p>The bottom-right basin, size <code>9</code>:</p>\n",
    "<pre><code>2199943210\n",
    "3987894921\n",
    "9856789<em>8</em>92\n",
    "876789<em>678</em>9\n",
    "98999<em>65678</em>\n",
    "</code></pre>\n",
    "<p>Find the three largest basins and multiply their sizes together. In the above example, this is <code>9 * 14 * 9 = <em>1134</em></code>.</p>\n",
    "<p><em>What do you get if you multiply together the sizes of the three largest basins?</em></p>\n"
   ]
  },
  {
   "cell_type": "markdown",
   "id": "4c30304f-86dd-43a4-9009-40f3595ed318",
   "metadata": {},
   "source": [
    "## Solution\n",
    "Well color me shocked!\n",
    "Against all odds, Part 2 can also be solved using the ol' CV bag of tricks."
   ]
  },
  {
   "cell_type": "code",
   "execution_count": 5,
   "id": "9cdeb2da-34af-488b-b9c1-088797aa7ea4",
   "metadata": {},
   "outputs": [
    {
     "name": "stdout",
     "output_type": "stream",
     "text": [
      "Product of three largest basin sizes: 964712\n"
     ]
    }
   ],
   "source": [
    "def basin_sizes(heightmap):\n",
    "    return np.unique(\n",
    "        ndimage.label(heightmap.max() - heightmap)[0],\n",
    "        return_counts=True\n",
    "    )[1][1:]\n",
    "\n",
    "\n",
    "basin_sizes = basin_sizes(heightmap)\n",
    "print(\n",
    "    'Product of three largest basin sizes:',\n",
    "    np.product(np.partition(basin_sizes, -3)[-3:])\n",
    ")"
   ]
  }
 ],
 "metadata": {
  "kernelspec": {
   "display_name": "Python 3 (ipykernel)",
   "language": "python",
   "name": "python3"
  },
  "language_info": {
   "codemirror_mode": {
    "name": "ipython",
    "version": 3
   },
   "file_extension": ".py",
   "mimetype": "text/x-python",
   "name": "python",
   "nbconvert_exporter": "python",
   "pygments_lexer": "ipython3",
   "version": "3.10.0"
  }
 },
 "nbformat": 4,
 "nbformat_minor": 5
}
