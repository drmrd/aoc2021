{
 "cells": [
  {
   "cell_type": "code",
   "execution_count": 1,
   "id": "7b15b8c9-fa20-4652-bd98-95422ffac629",
   "metadata": {},
   "outputs": [],
   "source": [
    "from pathlib import Path\n",
    "\n",
    "import git\n",
    "import numpy as np\n",
    "\n",
    "\n",
    "REPO_ROOT = Path(git.Repo('.', search_parent_directories=True).working_tree_dir)\n",
    "PUZZLE_INPUT = REPO_ROOT / 'puzzle_inputs' / 'Day 7.txt'\n",
    "\n",
    "assert PUZZLE_INPUT.exists()"
   ]
  },
  {
   "cell_type": "markdown",
   "id": "9b236307-d877-46ab-ad35-8f0f8820af11",
   "metadata": {},
   "source": [
    "<h2>--- Day 7: The Treachery of Whales ---</h2><p>A giant <a href=\"https://en.wikipedia.org/wiki/Sperm_whale\" target=\"_blank\">whale</a> has decided your submarine is its next meal, and it's much faster than you are. There's nowhere to run!</p>\n",
    "<p>Suddenly, a swarm of crabs (each in its own tiny submarine - it's too deep for them otherwise) zooms in to rescue you! They seem to be preparing to blast a hole in the ocean floor; sensors indicate a <em>massive underground cave system</em> just beyond where they're aiming!</p>\n",
    "<p>The crab submarines all need to be aligned before they'll have enough power to blast a large enough hole for your submarine to get through. However, it doesn't look like they'll be aligned before the whale catches you! Maybe you can help?</p>\n",
    "<p>There's one major catch - crab submarines can only move horizontally.</p>\n",
    "<p>You quickly make a list of <em>the horizontal position of each crab</em> (your puzzle input). Crab submarines have limited fuel, so you need to find a way to make all of their horizontal positions match while requiring them to spend as little fuel as possible.</p>\n",
    "<p>For example, consider the following horizontal positions:</p>\n",
    "<pre><code>16,1,2,0,4,2,7,1,2,14</code></pre>\n",
    "<p>This means there's a crab with horizontal position <code>16</code>, a crab with horizontal position <code>1</code>, and so on.</p>\n",
    "<p>Each change of 1 step in horizontal position of a single crab costs 1 fuel. You could choose any horizontal position to align them all on, but the one that costs the least fuel is horizontal position <code>2</code>:</p>\n",
    "<ul>\n",
    "<li>Move from <code>16</code> to <code>2</code>: <code>14</code> fuel</li>\n",
    "<li>Move from <code>1</code> to <code>2</code>: <code>1</code> fuel</li>\n",
    "<li>Move from <code>2</code> to <code>2</code>: <code>0</code> fuel</li>\n",
    "<li>Move from <code>0</code> to <code>2</code>: <code>2</code> fuel</li>\n",
    "<li>Move from <code>4</code> to <code>2</code>: <code>2</code> fuel</li>\n",
    "<li>Move from <code>2</code> to <code>2</code>: <code>0</code> fuel</li>\n",
    "<li>Move from <code>7</code> to <code>2</code>: <code>5</code> fuel</li>\n",
    "<li>Move from <code>1</code> to <code>2</code>: <code>1</code> fuel</li>\n",
    "<li>Move from <code>2</code> to <code>2</code>: <code>0</code> fuel</li>\n",
    "<li>Move from <code>14</code> to <code>2</code>: <code>12</code> fuel</li>\n",
    "</ul>\n",
    "<p>This costs a total of <code><em>37</em></code> fuel. This is the cheapest possible outcome; more expensive outcomes include aligning at position <code>1</code> (<code>41</code> fuel), position <code>3</code> (<code>39</code> fuel), or position <code>10</code> (<code>71</code> fuel).</p>\n",
    "<p>Determine the horizontal position that the crabs can align to using the least fuel possible. <em>How much fuel must they spend to align to that position?</em></p>\n"
   ]
  },
  {
   "cell_type": "markdown",
   "id": "8bf5212e-ae63-417f-baf8-0eb698d85bbc",
   "metadata": {},
   "source": [
    "## Solution"
   ]
  },
  {
   "cell_type": "code",
   "execution_count": 2,
   "id": "72805be9-3d0d-4302-b464-46f57a369a63",
   "metadata": {},
   "outputs": [
    {
     "name": "stdout",
     "output_type": "stream",
     "text": [
      "Minimum required fuel: 355521\n"
     ]
    }
   ],
   "source": [
    "initial_positions = np.array([\n",
    "    int(position)\n",
    "    for position in PUZZLE_INPUT.read_text().strip().split(',')\n",
    "])\n",
    "\n",
    "print(\n",
    "    'Minimum required fuel:',\n",
    "    min(\n",
    "        np.sum(np.abs(initial_positions - final_position))\n",
    "        for final_position in range(initial_positions.max())\n",
    "    )\n",
    ")"
   ]
  }
 ],
 "metadata": {
  "kernelspec": {
   "display_name": "Python 3 (ipykernel)",
   "language": "python",
   "name": "python3"
  },
  "language_info": {
   "codemirror_mode": {
    "name": "ipython",
    "version": 3
   },
   "file_extension": ".py",
   "mimetype": "text/x-python",
   "name": "python",
   "nbconvert_exporter": "python",
   "pygments_lexer": "ipython3",
   "version": "3.10.0"
  }
 },
 "nbformat": 4,
 "nbformat_minor": 5
}
