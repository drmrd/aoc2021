{
 "cells": [
  {
   "cell_type": "markdown",
   "id": "31e560b7-699f-45c3-9524-6ec46ea701eb",
   "metadata": {},
   "source": [
    "## Imports"
   ]
  },
  {
   "cell_type": "code",
   "execution_count": 1,
   "id": "5474b85f-66c5-4d7e-94b2-acec4fd8dabb",
   "metadata": {},
   "outputs": [],
   "source": [
    "import itertools\n",
    "\n",
    "import networkx as nx\n",
    "import numpy as np\n",
    "\n",
    "from aoc_utilities import puzzle_input"
   ]
  },
  {
   "cell_type": "markdown",
   "id": "b5320852-a5e6-4859-8555-50583f350ebd",
   "metadata": {},
   "source": [
    "<h2>--- Day 15: Chiton ---</h2><p>You've almost reached the exit of the cave, but the walls are getting closer together. Your submarine can barely still fit, though; the main problem is that the walls of the cave are covered in <a href=\"https://en.wikipedia.org/wiki/Chiton\" target=\"_blank\">chitons</a>, and it would be best not to bump any of them.</p>\n",
    "<p>The cavern is large, but has a very low ceiling, restricting your motion to two dimensions. The shape of the cavern resembles a square; a quick scan of chiton density produces a map of <em>risk level</em> throughout the cave (your puzzle input). For example:</p>\n",
    "<pre><code>1163751742\n",
    "1381373672\n",
    "2136511328\n",
    "3694931569\n",
    "7463417111\n",
    "1319128137\n",
    "1359912421\n",
    "3125421639\n",
    "1293138521\n",
    "2311944581\n",
    "</code></pre>\n",
    "<p>You start in the top left position, your destination is the bottom right position, and you <span title=\"Can't go diagonal until we can repair the caterpillar unit. Could be the liquid helium or the superconductors.\">cannot move diagonally</span>. The number at each position is its <em>risk level</em>; to determine the total risk of an entire path, add up the risk levels of each position you <em>enter</em> (that is, don't count the risk level of your starting position unless you enter it; leaving it adds no risk to your total).</p>\n",
    "<p>Your goal is to find a path with the <em>lowest total risk</em>. In this example, a path with the lowest total risk is highlighted here:</p>\n",
    "<pre><code><em>1</em>163751742\n",
    "<em>1</em>381373672\n",
    "<em>2136511</em>328\n",
    "369493<em>15</em>69\n",
    "7463417<em>1</em>11\n",
    "1319128<em>13</em>7\n",
    "13599124<em>2</em>1\n",
    "31254216<em>3</em>9\n",
    "12931385<em>21</em>\n",
    "231194458<em>1</em>\n",
    "</code></pre>\n",
    "<p>The total risk of this path is <code><em>40</em></code> (the starting position is never entered, so its risk is not counted).</p>\n",
    "<p><em>What is the lowest total risk of any path from the top left to the bottom right?</em></p>\n"
   ]
  },
  {
   "cell_type": "markdown",
   "id": "74efa820-83bd-4fec-b778-23e763e107c7",
   "metadata": {},
   "source": [
    "## Solution\n",
    "This amounts to computing a shortest path algorithm on the directed graph $R$ with\n",
    "1. a node for each \"pixel\" in the risk map of the cave,\n",
    "2. directed edges $p_1 \\to p_2$ between each pair $p_1$ and $p_2$ of adjacent pixels, and\n",
    "3. the weight on each edge with target pixel $p$ the risk of entering pixel $p$.\n",
    "\n",
    "NetworkX again makes this a few lines of code.\n",
    "To make things more interesting, I've written a solution that will work for any box-shaped cave (unequal side lengths permitted) in any number of dimensions.\n",
    "You know … just in case you're planning to do any seven-dimensional submarine spelunking in the future."
   ]
  },
  {
   "cell_type": "code",
   "execution_count": 2,
   "id": "2a8b8f51-daf3-4515-8834-f4771cb0331f",
   "metadata": {},
   "outputs": [],
   "source": [
    "def lowest_risk_path_length(risks: np.ndarray):\n",
    "    R = nx.DiGraph()\n",
    "    cavern_dimensions = np.array(risks.shape)\n",
    "\n",
    "    for hypervoxel in itertools.product(*map(range, cavern_dimensions)):\n",
    "        for neighbor in get_neighbors(hypervoxel, risks.shape):\n",
    "            R.add_edge(neighbor, hypervoxel, risk=risks[hypervoxel])\n",
    "            R.add_edge(hypervoxel, neighbor, risk=risks[neighbor])\n",
    "\n",
    "    return nx.shortest_path_length(\n",
    "        R, (0, 0), tuple(cavern_dimensions - 1), weight='risk')\n",
    "\n",
    "\n",
    "def get_neighbors(index, shape):\n",
    "    dimension_count = len(shape)\n",
    "    for dimension in range(dimension_count):\n",
    "        index_entry = index[dimension]\n",
    "        if index_entry > 0:\n",
    "            yield (*index[:dimension], index_entry - 1, *index[dimension + 1:])\n",
    "        if index_entry < shape[dimension] - 1:\n",
    "            yield (*index[:dimension], index_entry + 1, *index[dimension + 1:])"
   ]
  },
  {
   "cell_type": "markdown",
   "id": "4f83e16c-f49c-4e49-bcf5-2ff85ce6bb66",
   "metadata": {},
   "source": [
    "### Testing"
   ]
  },
  {
   "cell_type": "code",
   "execution_count": 3,
   "id": "71e231fe-79cc-4424-872f-d3ec91f23a6b",
   "metadata": {},
   "outputs": [],
   "source": [
    "example_risks = np.array([\n",
    "    [int(risk) for risk in line]\n",
    "    for line in '''\n",
    "        1163751742\n",
    "        1381373672\n",
    "        2136511328\n",
    "        3694931569\n",
    "        7463417111\n",
    "        1319128137\n",
    "        1359912421\n",
    "        3125421639\n",
    "        1293138521\n",
    "        2311944581\n",
    "    '''.split()\n",
    "])\n",
    "\n",
    "assert lowest_risk_path_length(example_risks) == 40"
   ]
  },
  {
   "cell_type": "markdown",
   "id": "14d184a3-2d5c-4083-9dea-a94c2c317f36",
   "metadata": {},
   "source": [
    "### Answer"
   ]
  },
  {
   "cell_type": "code",
   "execution_count": 4,
   "id": "c4214654-bb7d-4fa8-9485-85a9866d308e",
   "metadata": {},
   "outputs": [
    {
     "data": {
      "text/plain": [
       "403"
      ]
     },
     "execution_count": 4,
     "metadata": {},
     "output_type": "execute_result"
    }
   ],
   "source": [
    "risks = np.array([\n",
    "    [int(risk) for risk in line]\n",
    "    for line in puzzle_input.as_text(day=15).split()\n",
    "])\n",
    "\n",
    "lowest_risk_path_length(risks)"
   ]
  }
 ],
 "metadata": {
  "kernelspec": {
   "display_name": "Python 3 (ipykernel)",
   "language": "python",
   "name": "python3"
  },
  "language_info": {
   "codemirror_mode": {
    "name": "ipython",
    "version": 3
   },
   "file_extension": ".py",
   "mimetype": "text/x-python",
   "name": "python",
   "nbconvert_exporter": "python",
   "pygments_lexer": "ipython3",
   "version": "3.10.0"
  }
 },
 "nbformat": 4,
 "nbformat_minor": 5
}
