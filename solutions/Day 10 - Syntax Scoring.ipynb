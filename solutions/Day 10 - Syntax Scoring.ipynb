{
 "cells": [
  {
   "cell_type": "markdown",
   "id": "f6b04467-012b-4614-897d-391289626063",
   "metadata": {},
   "source": [
    "## Imports"
   ]
  },
  {
   "cell_type": "code",
   "execution_count": 1,
   "id": "2b37c19e-dbe3-4412-84ec-265f6ce80af9",
   "metadata": {},
   "outputs": [],
   "source": [
    "from typing import List, Optional, Union\n",
    "\n",
    "from aoc_utilities import puzzle_input"
   ]
  },
  {
   "cell_type": "markdown",
   "id": "194606e6-3107-4a50-92d6-042ae36b83a4",
   "metadata": {},
   "source": [
    "<h2>--- Day 10: Syntax Scoring ---</h2><p>You ask the submarine to determine the best route out of the deep-sea cave, but it only replies:</p>\n",
    "<pre><code>Syntax error in navigation subsystem on line: <span title=\"Some days, that's just how it is.\">all of them</span></code></pre>\n",
    "<p><em>All of them?!</em> The damage is worse than you thought. You bring up a copy of the navigation subsystem (your puzzle input).</p>\n",
    "<p>The navigation subsystem syntax is made of several lines containing <em>chunks</em>. There are one or more chunks on each line, and chunks contain zero or more other chunks. Adjacent chunks are not separated by any delimiter; if one chunk stops, the next chunk (if any) can immediately start. Every chunk must <em>open</em> and <em>close</em> with one of four legal pairs of matching characters:</p>\n",
    "<ul>\n",
    "<li>If a chunk opens with <code>(</code>, it must close with <code>)</code>.</li>\n",
    "<li>If a chunk opens with <code>[</code>, it must close with <code>]</code>.</li>\n",
    "<li>If a chunk opens with <code>{</code>, it must close with <code>}</code>.</li>\n",
    "<li>If a chunk opens with <code>&lt;</code>, it must close with <code>&gt;</code>.</li>\n",
    "</ul>\n",
    "<p>So, <code>()</code> is a legal chunk that contains no other chunks, as is <code>[]</code>. More complex but valid chunks include <code>([])</code>, <code>{()()()}</code>, <code>&lt;([{}])&gt;</code>, <code>[&lt;&gt;({}){}[([])&lt;&gt;]]</code>, and even <code>(((((((((())))))))))</code>.</p>\n",
    "<p>Some lines are <em>incomplete</em>, but others are <em>corrupted</em>. Find and discard the corrupted lines first.</p>\n",
    "<p>A corrupted line is one where a chunk <em>closes with the wrong character</em> - that is, where the characters it opens and closes with do not form one of the four legal pairs listed above.</p>\n",
    "<p>Examples of corrupted chunks include <code>(]</code>, <code>{()()()&gt;</code>, <code>(((()))}</code>, and <code>&lt;([]){()}[{}])</code>. Such a chunk can appear anywhere within a line, and its presence causes the whole line to be considered corrupted.</p>\n",
    "<p>For example, consider the following navigation subsystem:</p>\n",
    "<pre><code>[({(&lt;(())[]&gt;[[{[]{&lt;()&lt;&gt;&gt;\n",
    "[(()[&lt;&gt;])]({[&lt;{&lt;&lt;[]&gt;&gt;(\n",
    "{([(&lt;{}[&lt;&gt;[]}&gt;{[]{[(&lt;()&gt;\n",
    "(((({&lt;&gt;}&lt;{&lt;{&lt;&gt;}{[]{[]{}\n",
    "[[&lt;[([]))&lt;([[{}[[()]]]\n",
    "[{[{({}]{}}([{[{{{}}([]\n",
    "{&lt;[[]]&gt;}&lt;{[{[{[]{()[[[]\n",
    "[&lt;(&lt;(&lt;(&lt;{}))&gt;&lt;([]([]()\n",
    "&lt;{([([[(&lt;&gt;()){}]&gt;(&lt;&lt;{{\n",
    "&lt;{([{{}}[&lt;[[[&lt;&gt;{}]]]&gt;[]]\n",
    "</code></pre>\n",
    "<p>Some of the lines aren't corrupted, just incomplete; you can ignore these lines for now. The remaining five lines are corrupted:</p>\n",
    "<ul>\n",
    "<li><code>{([(&lt;{}[&lt;&gt;[]}&gt;{[]{[(&lt;()&gt;</code> - Expected <code>]</code>, but found <code>}</code> instead.</li>\n",
    "<li><code>[[&lt;[([]))&lt;([[{}[[()]]]</code> - Expected <code>]</code>, but found <code>)</code> instead.</li>\n",
    "<li><code>[{[{({}]{}}([{[{{{}}([]</code> - Expected <code>)</code>, but found <code>]</code> instead.</li>\n",
    "<li><code>[&lt;(&lt;(&lt;(&lt;{}))&gt;&lt;([]([]()</code> - Expected <code>&gt;</code>, but found <code>)</code> instead.</li>\n",
    "<li><code>&lt;{([([[(&lt;&gt;()){}]&gt;(&lt;&lt;{{</code> - Expected <code>]</code>, but found <code>&gt;</code> instead.</li>\n",
    "</ul>\n",
    "<p>Stop at the first incorrect closing character on each corrupted line.</p>\n",
    "<p>Did you know that syntax checkers actually have contests to see who can get the high score for syntax errors in a file? It's true! To calculate the syntax error score for a line, take the <em>first illegal character</em> on the line and look it up in the following table:</p>\n",
    "<ul>\n",
    "<li><code>)</code>: <code>3</code> points.</li>\n",
    "<li><code>]</code>: <code>57</code> points.</li>\n",
    "<li><code>}</code>: <code>1197</code> points.</li>\n",
    "<li><code>&gt;</code>: <code>25137</code> points.</li>\n",
    "</ul>\n",
    "<p>In the above example, an illegal <code>)</code> was found twice (<code>2*3 = <em>6</em></code> points), an illegal <code>]</code> was found once (<code><em>57</em></code> points), an illegal <code>}</code> was found once (<code><em>1197</em></code> points), and an illegal <code>&gt;</code> was found once (<code><em>25137</em></code> points). So, the total syntax error score for this file is <code>6+57+1197+25137 = <em>26397</em></code> points!</p>\n",
    "<p>Find the first illegal character in each corrupted line of the navigation subsystem. <em>What is the total syntax error score for those errors?</em></p>\n"
   ]
  },
  {
   "cell_type": "markdown",
   "id": "be8c1433-8704-4df2-9acd-c6b65bd9b162",
   "metadata": {},
   "source": [
    "## Solution"
   ]
  },
  {
   "cell_type": "code",
   "execution_count": 2,
   "id": "d0498558-a319-4ec1-b8ba-f5b88b1adeec",
   "metadata": {},
   "outputs": [],
   "source": [
    "def first_illegal_character(line: str) -> Optional[str]:\n",
    "    matching_opening_delimiter = dict(zip(')]}>', '([{<'))\n",
    "    opening_delimiters = set(matching_opening_delimiter.values())\n",
    "\n",
    "    delimiter_stack = []\n",
    "    for delimiter in line:\n",
    "        if delimiter in opening_delimiters:\n",
    "            delimiter_stack.append(delimiter)\n",
    "        elif delimiter_stack.pop() != matching_opening_delimiter[delimiter]:\n",
    "            return delimiter\n",
    "\n",
    "\n",
    "def score_syntax_errors(navigation_subsystem_source: str) -> int:\n",
    "    score_for_first_illegal_delimiter_per_line = {\n",
    "        None: 0,\n",
    "        ')': 3,\n",
    "        ']': 57,\n",
    "        '}': 1197,\n",
    "        '>': 25137\n",
    "    }\n",
    "    return sum(\n",
    "        score_for_first_illegal_delimiter_per_line[first_illegal_character(line)]\n",
    "        for line in navigation_subsystem_source.split('\\n')\n",
    "    )"
   ]
  },
  {
   "cell_type": "markdown",
   "id": "b039bd2f-1311-44b5-8ea3-cf639140bc03",
   "metadata": {},
   "source": [
    "### Testing"
   ]
  },
  {
   "cell_type": "code",
   "execution_count": 3,
   "id": "cbd0936b-fa92-45b1-94d2-c0e0d85d7f3d",
   "metadata": {},
   "outputs": [],
   "source": [
    "assert first_illegal_character('()') is None\n",
    "assert first_illegal_character('[]') is None\n",
    "assert first_illegal_character('([])') is None\n",
    "assert first_illegal_character('{()()()}') is None\n",
    "assert first_illegal_character('<([{}])>') is None\n",
    "assert first_illegal_character('[<>({}){}[([])<>]]') is None\n",
    "assert first_illegal_character('(((((((((())))))))))') is None\n",
    "\n",
    "assert first_illegal_character('{([(<{}[<>[]}>{[]{[(<()>') == '}'\n",
    "assert first_illegal_character('[[<[([]))<([[{}[[()]]]') == ')'\n",
    "assert first_illegal_character('[{[{({}]{}}([{[{{{}}([]') == ']'\n",
    "assert first_illegal_character('[<(<(<(<{}))><([]([]()') == ')'\n",
    "assert first_illegal_character('<{([([[(<>()){}]>(<<{{') == '>'\n",
    "\n",
    "example_navigation_subsystem_source = '\\n'.join([\n",
    "    '({(<(())[]>[[{[]{<()<>>',\n",
    "    '[(()[<>])]({[<{<<[]>>(',\n",
    "    '{([(<{}[<>[]}>{[]{[(<()>',\n",
    "    '(((({<>}<{<{<>}{[]{[]{}',\n",
    "    '[[<[([]))<([[{}[[()]]]',\n",
    "    '[{[{({}]{}}([{[{{{}}([]',\n",
    "    '{<[[]]>}<{[{[{[]{()[[[]',\n",
    "    '[<(<(<(<{}))><([]([]()',\n",
    "    '<{([([[(<>()){}]>(<<{{',\n",
    "    '<{([{{}}[<[[[<>{}]]]>[]]'\n",
    "])\n",
    "\n",
    "assert score_syntax_errors(example_navigation_subsystem_source) == 26397"
   ]
  },
  {
   "cell_type": "markdown",
   "id": "ee0026fc-4727-4209-ba3d-498c23bc06d2",
   "metadata": {},
   "source": [
    "### Answer"
   ]
  },
  {
   "cell_type": "code",
   "execution_count": 4,
   "id": "2ba73e5e-a0cd-461d-88e6-964b53db5f63",
   "metadata": {},
   "outputs": [
    {
     "name": "stdout",
     "output_type": "stream",
     "text": [
      "Syntax errors score: 362271\n"
     ]
    }
   ],
   "source": [
    "print(\n",
    "    'Syntax errors score:',\n",
    "    score_syntax_errors(puzzle_input.as_text(day=10))\n",
    ")"
   ]
  },
  {
   "cell_type": "markdown",
   "id": "4b66c90a-769a-4e9e-a9f0-2f35aa5050f3",
   "metadata": {},
   "source": [
    "<h2 id=\"part2\">--- Part Two ---</h2><p>Now, discard the corrupted lines.  The remaining lines are <em>incomplete</em>.</p>\n",
    "<p>Incomplete lines don't have any incorrect characters - instead, they're missing some closing characters at the end of the line. To repair the navigation subsystem, you just need to figure out <em>the sequence of closing characters</em> that complete all open chunks in the line.</p>\n",
    "<p>You can only use closing characters (<code>)</code>, <code>]</code>, <code>}</code>, or <code>&gt;</code>), and you must add them in the correct order so that only legal pairs are formed and all chunks end up closed.</p>\n",
    "<p>In the example above, there are five incomplete lines:</p>\n",
    "<ul>\n",
    "<li><code>[({(&lt;(())[]&gt;[[{[]{&lt;()&lt;&gt;&gt;</code> - Complete by adding <code>}}]])})]</code>.</li>\n",
    "<li><code>[(()[&lt;&gt;])]({[&lt;{&lt;&lt;[]&gt;&gt;(</code> - Complete by adding <code>)}&gt;]})</code>.</li>\n",
    "<li><code>(((({&lt;&gt;}&lt;{&lt;{&lt;&gt;}{[]{[]{}</code> - Complete by adding <code>}}&gt;}&gt;))))</code>.</li>\n",
    "<li><code>{&lt;[[]]&gt;}&lt;{[{[{[]{()[[[]</code> - Complete by adding <code>]]}}]}]}&gt;</code>.</li>\n",
    "<li><code>&lt;{([{{}}[&lt;[[[&lt;&gt;{}]]]&gt;[]]</code> - Complete by adding <code>])}&gt;</code>.</li>\n",
    "</ul>\n",
    "<p>Did you know that autocomplete tools <em>also</em> have contests? It's true! The score is determined by considering the completion string character-by-character. Start with a total score of <code>0</code>. Then, for each character, multiply the total score by 5 and then increase the total score by the point value given for the character in the following table:</p>\n",
    "<ul>\n",
    "<li><code>)</code>: <code>1</code> point.</li>\n",
    "<li><code>]</code>: <code>2</code> points.</li>\n",
    "<li><code>}</code>: <code>3</code> points.</li>\n",
    "<li><code>&gt;</code>: <code>4</code> points.</li>\n",
    "</ul>\n",
    "<p>So, the last completion string above - <code>])}&gt;</code> - would be scored as follows:</p>\n",
    "<ul>\n",
    "<li>Start with a total score of <code>0</code>.</li>\n",
    "<li>Multiply the total score by 5 to get <code>0</code>, then add the value of <code>]</code> (2) to get a new total score of <code>2</code>.</li>\n",
    "<li>Multiply the total score by 5 to get <code>10</code>, then add the value of <code>)</code> (1) to get a new total score of <code>11</code>.</li>\n",
    "<li>Multiply the total score by 5 to get <code>55</code>, then add the value of <code>}</code> (3) to get a new total score of <code>58</code>.</li>\n",
    "<li>Multiply the total score by 5 to get <code>290</code>, then add the value of <code>&gt;</code> (4) to get a new total score of <code>294</code>.</li>\n",
    "</ul>\n",
    "<p>The five lines' completion strings have total scores as follows:</p>\n",
    "<ul>\n",
    "<li><code>}}]])})]</code> - <code>288957</code> total points.</li>\n",
    "<li><code>)}&gt;]})</code> - <code>5566</code> total points.</li>\n",
    "<li><code>}}&gt;}&gt;))))</code> - <code>1480781</code> total points.</li>\n",
    "<li><code>]]}}]}]}&gt;</code> - <code>995444</code> total points.</li>\n",
    "<li><code>])}&gt;</code> - <code>294</code> total points.</li>\n",
    "</ul>\n",
    "<p>Autocomplete tools are an odd bunch: the winner is found by <em>sorting</em> all of the scores and then taking the <em>middle</em> score. (There will always be an odd number of scores to consider.) In this example, the middle score is <code><em>288957</em></code> because there are the same number of scores smaller and larger than it.</p>\n",
    "<p>Find the completion string for each incomplete line, score the completion strings, and sort the scores. <em>What is the middle score?</em></p>\n"
   ]
  },
  {
   "cell_type": "markdown",
   "id": "17174333-743a-47bc-a6be-d70de16f0f8c",
   "metadata": {},
   "source": [
    "### Solution"
   ]
  },
  {
   "cell_type": "code",
   "execution_count": 5,
   "id": "1f62620d-497d-4a39-b4a1-f4cf2d951c27",
   "metadata": {},
   "outputs": [],
   "source": [
    "def autocomplete(line: str) -> str:\n",
    "    pairless_delimiters = corrupted_or_incomplete_part(line)\n",
    "    if isinstance(pairless_delimiters, str):\n",
    "        raise ValueError(f'The line \"{line}\" is corrupted.')\n",
    "\n",
    "    return f'{line}{completion_string(pairless_delimiters)}'\n",
    "\n",
    "\n",
    "def corrupted_or_incomplete_part(line: str) -> Union[List[str], str]:\n",
    "    matching_opening_delimiter = dict(zip(')]}>', '([{<'))\n",
    "    opening_delimiters = set(matching_opening_delimiter.values())\n",
    "\n",
    "    delimiter_stack = []\n",
    "    for i, delimiter in enumerate(line):\n",
    "        if delimiter in opening_delimiters:\n",
    "            delimiter_stack.append(delimiter)\n",
    "        elif matching_opening_delimiter[delimiter] != delimiter_stack.pop():\n",
    "            return delimiter\n",
    "    return delimiter_stack\n",
    "\n",
    "\n",
    "def completion_string(opening_delimiters_stack):\n",
    "    matching_closing_delimiter = dict(zip('([{<', ')]}>'))\n",
    "    return ''.join(\n",
    "        matching_closing_delimiter[delimiter]\n",
    "        for delimiter in opening_delimiters_stack[::-1]\n",
    "    )\n",
    "\n",
    "\n",
    "def score_autocompletion(original_line: str) -> int:\n",
    "    completed_character_score = {')': 1, ']': 2, '}': 3, '>': 4}\n",
    "\n",
    "    try:\n",
    "        completed_line = autocomplete(original_line)\n",
    "    except ValueError:\n",
    "        return 0\n",
    "    \n",
    "    completion = completed_line[len(original_line):]\n",
    "\n",
    "    score = 0\n",
    "    for character in completion:\n",
    "        score = 5 * score + completed_character_score[character]\n",
    "    return score"
   ]
  },
  {
   "cell_type": "markdown",
   "id": "89b1e008-ac36-44ec-87a7-24e3e29cc3dc",
   "metadata": {},
   "source": [
    "### Testing"
   ]
  },
  {
   "cell_type": "code",
   "execution_count": 6,
   "id": "71922b54-f6a1-436a-9c50-8c9edcc4f64e",
   "metadata": {},
   "outputs": [],
   "source": [
    "assert autocomplete('[({(<(())[]>[[{[]{<()<>>') == '[({(<(())[]>[[{[]{<()<>>}}]])})]'\n",
    "assert autocomplete('[(()[<>])]({[<{<<[]>>(') == '[(()[<>])]({[<{<<[]>>()}>]})'\n",
    "assert autocomplete('(((({<>}<{<{<>}{[]{[]{}') == '(((({<>}<{<{<>}{[]{[]{}}}>}>))))'\n",
    "assert autocomplete('{<[[]]>}<{[{[{[]{()[[[]') == '{<[[]]>}<{[{[{[]{()[[[]]]}}]}]}>'\n",
    "assert autocomplete('<{([{{}}[<[[[<>{}]]]>[]]') == '<{([{{}}[<[[[<>{}]]]>[]]])}>'\n",
    "\n",
    "assert score_autocompletion('[({(<(())[]>[[{[]{<()<>>') == 288957\n",
    "assert score_autocompletion('[(()[<>])]({[<{<<[]>>(') == 5566\n",
    "assert score_autocompletion('(((({<>}<{<{<>}{[]{[]{}') == 1480781\n",
    "assert score_autocompletion('{<[[]]>}<{[{[{[]{()[[[]') == 995444\n",
    "assert score_autocompletion('<{([{{}}[<[[[<>{}]]]>[]]') == 294"
   ]
  },
  {
   "cell_type": "markdown",
   "id": "992589b2-c0f5-4430-bec0-2c53eb02777c",
   "metadata": {},
   "source": [
    "### Answer"
   ]
  },
  {
   "cell_type": "code",
   "execution_count": 7,
   "id": "56d3a1f4-3174-4cb8-bdf7-7e422779f1eb",
   "metadata": {},
   "outputs": [
    {
     "name": "stdout",
     "output_type": "stream",
     "text": [
      "Median Autocompletion Score: 1698395182\n"
     ]
    }
   ],
   "source": [
    "autocompletion_scores = sorted(\n",
    "    filter(\n",
    "        lambda score: score > 0,\n",
    "        (\n",
    "            score_autocompletion(line)\n",
    "            for line in puzzle_input.as_text(day=10).split('\\n')\n",
    "        )\n",
    "    )\n",
    ")\n",
    "\n",
    "print(\n",
    "    'Median Autocompletion Score:',\n",
    "    autocompletion_scores[len(autocompletion_scores) // 2]\n",
    ")"
   ]
  },
  {
   "cell_type": "markdown",
   "id": "5b52cd4e-3a6a-47b6-a366-6dbab65cf7de",
   "metadata": {},
   "source": [
    "### Commentary\n",
    "While we just need the missing characters for the incomplete input lines, I wrote an `autocomplete` function for fun and then used it to compute the autocompletion scores.\n",
    "As part of the fun, I extended `first_illegal_character` into `corrupted_or_incomplete_part`, which either returns the first \"corrupted\" closing delimiter or the set of unmatched opening delimiters for incomplete strings.\n",
    "\n",
    "I was mostly curious to see what this would look like with an all-in-one `corrupted_or_incomplete_part` function, but it turns out to be clunkier than it's worth.\n",
    "The whole solution can be pared down to `completion_string` combined with simplified \"`incomplete_part`\" and `score_autocompletion` functions with an easy refactor."
   ]
  }
 ],
 "metadata": {
  "kernelspec": {
   "display_name": "Python 3 (ipykernel)",
   "language": "python",
   "name": "python3"
  },
  "language_info": {
   "codemirror_mode": {
    "name": "ipython",
    "version": 3
   },
   "file_extension": ".py",
   "mimetype": "text/x-python",
   "name": "python",
   "nbconvert_exporter": "python",
   "pygments_lexer": "ipython3",
   "version": "3.10.0"
  }
 },
 "nbformat": 4,
 "nbformat_minor": 5
}
