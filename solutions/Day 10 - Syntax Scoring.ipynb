{
 "cells": [
  {
   "cell_type": "markdown",
   "id": "f6b04467-012b-4614-897d-391289626063",
   "metadata": {},
   "source": [
    "## Imports & Inputs"
   ]
  },
  {
   "cell_type": "code",
   "execution_count": 1,
   "id": "2b37c19e-dbe3-4412-84ec-265f6ce80af9",
   "metadata": {},
   "outputs": [],
   "source": [
    "from pathlib import Path\n",
    "from typing import Optional\n",
    "\n",
    "import git\n",
    "\n",
    "REPO_ROOT = Path(git.Repo('.', search_parent_directories=True).working_tree_dir)\n",
    "PUZZLE_INPUT = REPO_ROOT / 'puzzle_inputs' / 'Day 10.txt'\n",
    "\n",
    "assert PUZZLE_INPUT.exists()"
   ]
  },
  {
   "cell_type": "markdown",
   "id": "194606e6-3107-4a50-92d6-042ae36b83a4",
   "metadata": {},
   "source": [
    "<h2>--- Day 10: Syntax Scoring ---</h2><p>You ask the submarine to determine the best route out of the deep-sea cave, but it only replies:</p>\n",
    "<pre><code>Syntax error in navigation subsystem on line: <span title=\"Some days, that's just how it is.\">all of them</span></code></pre>\n",
    "<p><em>All of them?!</em> The damage is worse than you thought. You bring up a copy of the navigation subsystem (your puzzle input).</p>\n",
    "<p>The navigation subsystem syntax is made of several lines containing <em>chunks</em>. There are one or more chunks on each line, and chunks contain zero or more other chunks. Adjacent chunks are not separated by any delimiter; if one chunk stops, the next chunk (if any) can immediately start. Every chunk must <em>open</em> and <em>close</em> with one of four legal pairs of matching characters:</p>\n",
    "<ul>\n",
    "<li>If a chunk opens with <code>(</code>, it must close with <code>)</code>.</li>\n",
    "<li>If a chunk opens with <code>[</code>, it must close with <code>]</code>.</li>\n",
    "<li>If a chunk opens with <code>{</code>, it must close with <code>}</code>.</li>\n",
    "<li>If a chunk opens with <code>&lt;</code>, it must close with <code>&gt;</code>.</li>\n",
    "</ul>\n",
    "<p>So, <code>()</code> is a legal chunk that contains no other chunks, as is <code>[]</code>. More complex but valid chunks include <code>([])</code>, <code>{()()()}</code>, <code>&lt;([{}])&gt;</code>, <code>[&lt;&gt;({}){}[([])&lt;&gt;]]</code>, and even <code>(((((((((())))))))))</code>.</p>\n",
    "<p>Some lines are <em>incomplete</em>, but others are <em>corrupted</em>. Find and discard the corrupted lines first.</p>\n",
    "<p>A corrupted line is one where a chunk <em>closes with the wrong character</em> - that is, where the characters it opens and closes with do not form one of the four legal pairs listed above.</p>\n",
    "<p>Examples of corrupted chunks include <code>(]</code>, <code>{()()()&gt;</code>, <code>(((()))}</code>, and <code>&lt;([]){()}[{}])</code>. Such a chunk can appear anywhere within a line, and its presence causes the whole line to be considered corrupted.</p>\n",
    "<p>For example, consider the following navigation subsystem:</p>\n",
    "<pre><code>[({(&lt;(())[]&gt;[[{[]{&lt;()&lt;&gt;&gt;\n",
    "[(()[&lt;&gt;])]({[&lt;{&lt;&lt;[]&gt;&gt;(\n",
    "{([(&lt;{}[&lt;&gt;[]}&gt;{[]{[(&lt;()&gt;\n",
    "(((({&lt;&gt;}&lt;{&lt;{&lt;&gt;}{[]{[]{}\n",
    "[[&lt;[([]))&lt;([[{}[[()]]]\n",
    "[{[{({}]{}}([{[{{{}}([]\n",
    "{&lt;[[]]&gt;}&lt;{[{[{[]{()[[[]\n",
    "[&lt;(&lt;(&lt;(&lt;{}))&gt;&lt;([]([]()\n",
    "&lt;{([([[(&lt;&gt;()){}]&gt;(&lt;&lt;{{\n",
    "&lt;{([{{}}[&lt;[[[&lt;&gt;{}]]]&gt;[]]\n",
    "</code></pre>\n",
    "<p>Some of the lines aren't corrupted, just incomplete; you can ignore these lines for now. The remaining five lines are corrupted:</p>\n",
    "<ul>\n",
    "<li><code>{([(&lt;{}[&lt;&gt;[]}&gt;{[]{[(&lt;()&gt;</code> - Expected <code>]</code>, but found <code>}</code> instead.</li>\n",
    "<li><code>[[&lt;[([]))&lt;([[{}[[()]]]</code> - Expected <code>]</code>, but found <code>)</code> instead.</li>\n",
    "<li><code>[{[{({}]{}}([{[{{{}}([]</code> - Expected <code>)</code>, but found <code>]</code> instead.</li>\n",
    "<li><code>[&lt;(&lt;(&lt;(&lt;{}))&gt;&lt;([]([]()</code> - Expected <code>&gt;</code>, but found <code>)</code> instead.</li>\n",
    "<li><code>&lt;{([([[(&lt;&gt;()){}]&gt;(&lt;&lt;{{</code> - Expected <code>]</code>, but found <code>&gt;</code> instead.</li>\n",
    "</ul>\n",
    "<p>Stop at the first incorrect closing character on each corrupted line.</p>\n",
    "<p>Did you know that syntax checkers actually have contests to see who can get the high score for syntax errors in a file? It's true! To calculate the syntax error score for a line, take the <em>first illegal character</em> on the line and look it up in the following table:</p>\n",
    "<ul>\n",
    "<li><code>)</code>: <code>3</code> points.</li>\n",
    "<li><code>]</code>: <code>57</code> points.</li>\n",
    "<li><code>}</code>: <code>1197</code> points.</li>\n",
    "<li><code>&gt;</code>: <code>25137</code> points.</li>\n",
    "</ul>\n",
    "<p>In the above example, an illegal <code>)</code> was found twice (<code>2*3 = <em>6</em></code> points), an illegal <code>]</code> was found once (<code><em>57</em></code> points), an illegal <code>}</code> was found once (<code><em>1197</em></code> points), and an illegal <code>&gt;</code> was found once (<code><em>25137</em></code> points). So, the total syntax error score for this file is <code>6+57+1197+25137 = <em>26397</em></code> points!</p>\n",
    "<p>Find the first illegal character in each corrupted line of the navigation subsystem. <em>What is the total syntax error score for those errors?</em></p>\n"
   ]
  },
  {
   "cell_type": "markdown",
   "id": "be8c1433-8704-4df2-9acd-c6b65bd9b162",
   "metadata": {},
   "source": [
    "## Solution"
   ]
  },
  {
   "cell_type": "code",
   "execution_count": 2,
   "id": "d0498558-a319-4ec1-b8ba-f5b88b1adeec",
   "metadata": {},
   "outputs": [],
   "source": [
    "def first_illegal_character(line: str) -> Optional[str]:\n",
    "    matching_opening_delimiter = dict(zip(')]}>', '([{<'))\n",
    "    opening_delimiters = set(matching_opening_delimiter.values())\n",
    "\n",
    "    delimiter_stack = []\n",
    "    for delimiter in line:\n",
    "        if delimiter in opening_delimiters:\n",
    "            delimiter_stack.append(delimiter)\n",
    "        elif delimiter_stack.pop() != matching_opening_delimiter[delimiter]:\n",
    "            return delimiter\n",
    "\n",
    "\n",
    "def score_syntax_errors(navigation_subsystem_source: str) -> int:\n",
    "    score_for_first_illegal_delimiter_per_line = {\n",
    "        None: 0,\n",
    "        ')': 3,\n",
    "        ']': 57,\n",
    "        '}': 1197,\n",
    "        '>': 25137\n",
    "    }\n",
    "    return sum(\n",
    "        score_for_first_illegal_delimiter_per_line[first_illegal_character(line)]\n",
    "        for line in navigation_subsystem_source.split('\\n')\n",
    "    )"
   ]
  },
  {
   "cell_type": "markdown",
   "id": "b039bd2f-1311-44b5-8ea3-cf639140bc03",
   "metadata": {},
   "source": [
    "### Testing"
   ]
  },
  {
   "cell_type": "code",
   "execution_count": 3,
   "id": "cbd0936b-fa92-45b1-94d2-c0e0d85d7f3d",
   "metadata": {},
   "outputs": [],
   "source": [
    "assert first_illegal_character('()') is None\n",
    "assert first_illegal_character('[]') is None\n",
    "assert first_illegal_character('([])') is None\n",
    "assert first_illegal_character('{()()()}') is None\n",
    "assert first_illegal_character('<([{}])>') is None\n",
    "assert first_illegal_character('[<>({}){}[([])<>]]') is None\n",
    "assert first_illegal_character('(((((((((())))))))))') is None\n",
    "\n",
    "assert first_illegal_character('{([(<{}[<>[]}>{[]{[(<()>') == '}'\n",
    "assert first_illegal_character('[[<[([]))<([[{}[[()]]]') == ')'\n",
    "assert first_illegal_character('[{[{({}]{}}([{[{{{}}([]') == ']'\n",
    "assert first_illegal_character('[<(<(<(<{}))><([]([]()') == ')'\n",
    "assert first_illegal_character('<{([([[(<>()){}]>(<<{{') == '>'\n",
    "\n",
    "example_navigation_subsystem_source = '\\n'.join([\n",
    "    '({(<(())[]>[[{[]{<()<>>',\n",
    "    '[(()[<>])]({[<{<<[]>>(',\n",
    "    '{([(<{}[<>[]}>{[]{[(<()>',\n",
    "    '(((({<>}<{<{<>}{[]{[]{}',\n",
    "    '[[<[([]))<([[{}[[()]]]',\n",
    "    '[{[{({}]{}}([{[{{{}}([]',\n",
    "    '{<[[]]>}<{[{[{[]{()[[[]',\n",
    "    '[<(<(<(<{}))><([]([]()',\n",
    "    '<{([([[(<>()){}]>(<<{{',\n",
    "    '<{([{{}}[<[[[<>{}]]]>[]]'\n",
    "])\n",
    "\n",
    "assert score_syntax_errors(example_navigation_subsystem_source) == 26397"
   ]
  },
  {
   "cell_type": "markdown",
   "id": "ee0026fc-4727-4209-ba3d-498c23bc06d2",
   "metadata": {},
   "source": [
    "### Answer"
   ]
  },
  {
   "cell_type": "code",
   "execution_count": 4,
   "id": "2ba73e5e-a0cd-461d-88e6-964b53db5f63",
   "metadata": {},
   "outputs": [
    {
     "name": "stdout",
     "output_type": "stream",
     "text": [
      "Syntax errors score: 362271\n"
     ]
    }
   ],
   "source": [
    "print(\n",
    "    'Syntax errors score:',\n",
    "    score_syntax_errors(PUZZLE_INPUT.read_text())\n",
    ")"
   ]
  }
 ],
 "metadata": {
  "kernelspec": {
   "display_name": "Python 3 (ipykernel)",
   "language": "python",
   "name": "python3"
  },
  "language_info": {
   "codemirror_mode": {
    "name": "ipython",
    "version": 3
   },
   "file_extension": ".py",
   "mimetype": "text/x-python",
   "name": "python",
   "nbconvert_exporter": "python",
   "pygments_lexer": "ipython3",
   "version": "3.10.0"
  }
 },
 "nbformat": 4,
 "nbformat_minor": 5
}
