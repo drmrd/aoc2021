{
 "cells": [
  {
   "cell_type": "markdown",
   "id": "0dd2fee5-cc46-41bf-9d52-f8b0f7400d3f",
   "metadata": {},
   "source": [
    "# Imports & Inputs"
   ]
  },
  {
   "cell_type": "code",
   "execution_count": 5,
   "id": "45034d74-0e21-4851-85e8-1365a8378cc8",
   "metadata": {},
   "outputs": [],
   "source": [
    "import itertools\n",
    "\n",
    "from pathlib import Path\n",
    "\n",
    "import git\n",
    "\n",
    "\n",
    "REPO_ROOT = Path(git.Repo('.', search_parent_directories=True).working_tree_dir)\n",
    "PUZZLE_INPUT = REPO_ROOT / 'puzzle_inputs' / 'Day 1.txt'\n",
    "\n",
    "assert PUZZLE_INPUT.exists()"
   ]
  },
  {
   "cell_type": "markdown",
   "id": "9119fb26-5bfc-4f6e-9e91-06de0d1b9480",
   "metadata": {
    "tags": []
   },
   "source": [
    "# Part 1\n",
    "\n",
    "## Prompt\n",
    "\n",
    "> You're minding your own business on a ship at sea when the overboard alarm goes off! You rush to see if you can help. Apparently, one of the Elves tripped and accidentally sent the sleigh keys flying into the ocean!\n",
    ">\n",
    "> Before you know it, you're inside a submarine the Elves keep ready for situations like this. It's covered in Christmas lights (because of course it is), and it even has an experimental antenna that should be able to track the keys if you can boost its signal strength high enough; there's a little meter that indicates the antenna's signal strength by displaying 0-50 stars.\n",
    ">\n",
    "> Your instincts tell you that in order to save Christmas, you'll need to get all fifty stars by December 25th.\n",
    ">\n",
    "> Collect stars by solving puzzles. Two puzzles will be made available on each day in the Advent calendar; the second puzzle is unlocked when you complete the first. Each puzzle grants one star. Good luck!\n",
    ">\n",
    "> As the submarine drops below the surface of the ocean, it automatically performs a sonar sweep of the nearby sea floor. On a small screen, the sonar sweep report (your puzzle input) appears: each line is a measurement of the sea floor depth as the sweep looks further and further away from the submarine.\n",
    ">\n",
    "> For example, suppose you had the following report:\n",
    "> \n",
    "> ```\n",
    "> 199\n",
    "> 200\n",
    "> 208\n",
    "> 210\n",
    "> 200\n",
    "> 207\n",
    "> 240\n",
    "> 269\n",
    "> 260\n",
    "> 263\n",
    "> ```\n",
    "> \n",
    "> This report indicates that, scanning outward from the submarine, the sonar sweep found depths of $199$, $200$, $208$, $210$, and so on.\n",
    "> \n",
    "> The first order of business is to figure out how quickly the depth increases, just so you know what you're dealing with - you never know if the keys will get carried into deeper water by an ocean current or a fish or something.\n",
    "> \n",
    "> To do this, count the number of times a depth measurement increases from the previous measurement. (There is no measurement before the first measurement.) In the example above, the changes are as follows:\n",
    "> \n",
    "> ```\n",
    "> 199 (N/A - no previous measurement)\n",
    "> 200 (increased)\n",
    "> 208 (increased)\n",
    "> 210 (increased)\n",
    "> 200 (decreased)\n",
    "> 207 (increased)\n",
    "> 240 (increased)\n",
    "> 269 (increased)\n",
    "> 260 (decreased)\n",
    "> 263 (increased)\n",
    "> ```\n",
    "> \n",
    "> In this example, there are $7$ measurements that are larger than the previous measurement.\n",
    "> \n",
    "> How many measurements are larger than the previous measurement?"
   ]
  },
  {
   "cell_type": "markdown",
   "id": "5c5659a2-2884-4a55-aab7-d8d2d7f2b3fb",
   "metadata": {},
   "source": [
    "## Solution"
   ]
  },
  {
   "cell_type": "code",
   "execution_count": 2,
   "id": "0359fed4-84c2-4fa3-b088-e169a52169bb",
   "metadata": {},
   "outputs": [
    {
     "data": {
      "text/plain": [
       "1766"
      ]
     },
     "execution_count": 2,
     "metadata": {},
     "output_type": "execute_result"
    }
   ],
   "source": [
    "def consecutive_pairs(iterator):\n",
    "    iter1, iter2 = itertools.tee(iterator)\n",
    "    next(iter2)\n",
    "    \n",
    "    return zip(iter1, iter2)\n",
    "\n",
    "\n",
    "sonar_sweep_report = [\n",
    "    int(depth_measurement)\n",
    "    for depth_measurement in PUZZLE_INPUT.read_text().split('\\n')\n",
    "]\n",
    "\n",
    "\n",
    "sum(\n",
    "    first < second\n",
    "    for first, second in consecutive_pairs(sonar_sweep_report)\n",
    ")"
   ]
  },
  {
   "cell_type": "markdown",
   "id": "819d1a80-96e4-4c4e-bec6-b2c7d22beed3",
   "metadata": {},
   "source": [
    "# Part 2\n",
    "\n",
    "## Prompt\n",
    "> Considering every single measurement isn't as useful as you expected: there's just too much noise in the data.\n",
    ">\n",
    "> Instead, consider sums of a three-measurement sliding window. Again considering the above example:\n",
    ">\n",
    "> ```\n",
    "> 199  A      \n",
    "> 200  A B    \n",
    "> 208  A B C  \n",
    "> 210    B C D\n",
    "> 200  E   C D\n",
    "> 207  E F   D\n",
    "> 240  E F G  \n",
    "> 269    F G H\n",
    "> 260      G H\n",
    "> 263        H\n",
    "> ```\n",
    ">\n",
    "> Start by comparing the first and second three-measurement windows. The measurements in the first window are marked `A` ($199$, $200$, $208$); their sum is $199 + 200 + 208 = 607$. The second window is marked `B` ($200$, $208$, $210$); its sum is $618$. The sum of measurements in the second window is larger than the sum of the first, so this first comparison increased.\n",
    ">\n",
    "> Your goal now is to count the number of times the sum of measurements in this sliding window increases from the previous sum. So, compare `A` with `B`, then compare `B` with `C`, then `C` with `D`, and so on. Stop when there aren't enough measurements left to create a new three-measurement sum.\n",
    ">\n",
    "> In the above example, the sum of each three-measurement window is as follows:\n",
    ">\n",
    "> ```\n",
    "> A: 607 (N/A - no previous sum)\n",
    "> B: 618 (increased)\n",
    "> C: 618 (no change)\n",
    "> D: 617 (decreased)\n",
    "> E: 647 (increased)\n",
    "> F: 716 (increased)\n",
    "> G: 769 (increased)\n",
    "> H: 792 (increased)\n",
    "> ```\n",
    ">\n",
    "> In this example, there are $5$ sums that are larger than the previous sum.\n",
    ">\n",
    "> Consider sums of a three-measurement sliding window. How many sums are larger than the previous sum?"
   ]
  },
  {
   "cell_type": "markdown",
   "id": "623f745b-9546-4335-957a-7d78564f4967",
   "metadata": {},
   "source": [
    "## Solution"
   ]
  },
  {
   "cell_type": "code",
   "execution_count": 3,
   "id": "2e8c14be-7b66-4e33-9734-08c391030087",
   "metadata": {},
   "outputs": [
    {
     "data": {
      "text/plain": [
       "1797"
      ]
     },
     "execution_count": 3,
     "metadata": {},
     "output_type": "execute_result"
    }
   ],
   "source": [
    "def sliding_window(iterator, length):\n",
    "    iterators = itertools.tee(iterator, length)\n",
    "\n",
    "    for index in range(length):\n",
    "        for _ in range(index):\n",
    "            next(iterators[index])\n",
    "    \n",
    "    return zip(*iterators)\n",
    "\n",
    "\n",
    "sum(\n",
    "    first < second\n",
    "    for first, second in consecutive_pairs(\n",
    "        sum(window)\n",
    "        for window in sliding_window(sonar_sweep_report, length=3)\n",
    "    )\n",
    ")"
   ]
  },
  {
   "cell_type": "markdown",
   "id": "d5dbba80-7133-4a8e-a3af-6e42193ca16d",
   "metadata": {},
   "source": [
    "# Comments\n",
    "Note that the solution to Part 2 generalizes the solution to Part 1 (and `consecutive_pairs` can be replaced by `sliding_window`)."
   ]
  },
  {
   "cell_type": "code",
   "execution_count": 4,
   "id": "e8adbe41-aab1-42bf-b1b0-c31cc09a206b",
   "metadata": {},
   "outputs": [
    {
     "name": "stdout",
     "output_type": "stream",
     "text": [
      "Solution to Part 1: 1766\n",
      "Solution to Part 2: 1797\n"
     ]
    }
   ],
   "source": [
    "def count_depth_increases(sonar_sweep_report, smoothing_window):\n",
    "    return sum(\n",
    "        first < second\n",
    "        for first, second in sliding_window(\n",
    "            map(sum, sliding_window(sonar_sweep_report,\n",
    "                                    length=smoothing_window)),\n",
    "            length=2\n",
    "        )\n",
    "    )\n",
    "\n",
    "\n",
    "print('Solution to Part 1:', count_depth_increases(sonar_sweep_report, 1))\n",
    "print('Solution to Part 2:', count_depth_increases(sonar_sweep_report, 3))"
   ]
  }
 ],
 "metadata": {
  "kernelspec": {
   "display_name": "Python 3 (ipykernel)",
   "language": "python",
   "name": "python3"
  },
  "language_info": {
   "codemirror_mode": {
    "name": "ipython",
    "version": 3
   },
   "file_extension": ".py",
   "mimetype": "text/x-python",
   "name": "python",
   "nbconvert_exporter": "python",
   "pygments_lexer": "ipython3",
   "version": "3.10.0"
  }
 },
 "nbformat": 4,
 "nbformat_minor": 5
}
