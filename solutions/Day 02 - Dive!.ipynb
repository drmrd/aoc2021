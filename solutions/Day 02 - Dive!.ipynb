{
 "cells": [
  {
   "cell_type": "markdown",
   "id": "b978e709-dd9b-4c16-a1a6-7510084942bc",
   "metadata": {},
   "source": [
    "## Imports"
   ]
  },
  {
   "cell_type": "code",
   "execution_count": 1,
   "id": "f63db7f4-db1c-4e18-b436-e27da5f406fc",
   "metadata": {},
   "outputs": [],
   "source": [
    "from pydantic import BaseModel\n",
    "\n",
    "from aoc_utilities import puzzle_input"
   ]
  },
  {
   "cell_type": "markdown",
   "id": "50b8bb69-57d5-4272-8c18-9ee94b2549c1",
   "metadata": {},
   "source": [
    "<h2 id=\"part2\">--- Part One ---</h2>\n",
    "Now, you need to figure out how to pilot this thing.\n",
    "\n",
    "It seems like the submarine can take a series of commands like forward 1, down 2, or up 3:\n",
    "\n",
    "    forward X increases the horizontal position by X units.\n",
    "    down X increases the depth by X units.\n",
    "    up X decreases the depth by X units.\n",
    "\n",
    "Note that since you're on a submarine, down and up affect your depth, and so they have the opposite result of what you might expect.\n",
    "\n",
    "The submarine seems to already have a planned course (your puzzle input). You should probably figure out where it's going. For example:\n",
    "\n",
    "```\n",
    "forward 5\n",
    "down 5\n",
    "forward 8\n",
    "up 3\n",
    "down 8\n",
    "forward 2\n",
    "```\n",
    "\n",
    "Your horizontal position and depth both start at 0. The steps above would then modify them as follows:\n",
    "\n",
    "    forward 5 adds 5 to your horizontal position, a total of 5.\n",
    "    down 5 adds 5 to your depth, resulting in a value of 5.\n",
    "    forward 8 adds 8 to your horizontal position, a total of 13.\n",
    "    up 3 decreases your depth by 3, resulting in a value of 2.\n",
    "    down 8 adds 8 to your depth, resulting in a value of 10.\n",
    "    forward 2 adds 2 to your horizontal position, a total of 15.\n",
    "\n",
    "After following these instructions, you would have a horizontal position of 15 and a depth of 10. (Multiplying these together produces 150.)\n",
    "\n",
    "Calculate the horizontal position and depth you would have after following the planned course. What do you get if you multiply your final horizontal position by your final depth?"
   ]
  },
  {
   "cell_type": "markdown",
   "id": "95fdc2a3-b23a-4b18-a184-b2cf26b57349",
   "metadata": {},
   "source": [
    "## Solution"
   ]
  },
  {
   "cell_type": "code",
   "execution_count": 2,
   "id": "2202ecc1-4d19-423b-8ef4-505bb28a3d3b",
   "metadata": {},
   "outputs": [],
   "source": [
    "class Instruction(BaseModel):\n",
    "    direction: str\n",
    "    units: int\n",
    "\n",
    "    @staticmethod\n",
    "    def parse(instruction_string):\n",
    "        direction, units = instruction_string.split(' ')\n",
    "        return Instruction(direction=direction, units=units)\n",
    "\n",
    "\n",
    "class Submarine(BaseModel):\n",
    "    horizontal_position: int = 0\n",
    "    depth: int = 0\n",
    "\n",
    "    class Config:\n",
    "        allow_mutation = False\n",
    "\n",
    "    def forward(self, units) -> 'Submarine':\n",
    "        return Submarine(\n",
    "            horizontal_position=self.horizontal_position + units,\n",
    "            depth=self.depth\n",
    "        )\n",
    "\n",
    "    def up(self, units) -> 'Submarine':\n",
    "        return Submarine(\n",
    "            horizontal_position=self.horizontal_position,\n",
    "            depth=self.depth - units\n",
    "        )\n",
    "\n",
    "    def down(self, units) -> 'Submarine':\n",
    "        return Submarine(\n",
    "            horizontal_position=self.horizontal_position,\n",
    "            depth=self.depth + units\n",
    "        )\n",
    "\n",
    "\n",
    "def dive(\n",
    "    submarine: Submarine = Submarine(),\n",
    "    instructions_text: str = puzzle_input.as_text(day=2)\n",
    ") -> Submarine:\n",
    "    instructions = (\n",
    "        Instruction.parse(instruction_string)\n",
    "        for instruction_string in instructions_text.split('\\n')\n",
    "    )\n",
    "\n",
    "    *_, submarine = (\n",
    "        submarine := getattr(submarine, instruction.direction)(instruction.units)\n",
    "        for instruction in instructions\n",
    "    )\n",
    "    return submarine"
   ]
  },
  {
   "cell_type": "markdown",
   "id": "32fb5aaa-210b-4098-8ec9-b0b2bb1d4049",
   "metadata": {},
   "source": [
    "### Testing Our `Submarine`"
   ]
  },
  {
   "cell_type": "code",
   "execution_count": 3,
   "id": "56b5367c-28d3-40ea-8527-cc3362840273",
   "metadata": {},
   "outputs": [],
   "source": [
    "example_instructions = '\\n'.join([\n",
    "    'forward 5',\n",
    "    'down 5',\n",
    "    'forward 8',\n",
    "    'up 3',\n",
    "    'down 8',\n",
    "    'forward 2'\n",
    "])\n",
    "\n",
    "example_submarine = dive(instructions_text=example_instructions)\n",
    "\n",
    "assert example_submarine.horizontal_position == 15\n",
    "assert example_submarine.depth == 10"
   ]
  },
  {
   "cell_type": "markdown",
   "id": "1d87d46e-7df5-4f79-9148-c452160b62e5",
   "metadata": {},
   "source": [
    "### Answer"
   ]
  },
  {
   "cell_type": "code",
   "execution_count": 4,
   "id": "259d1d4b-783f-434b-a57d-5cd8303c6ed7",
   "metadata": {},
   "outputs": [
    {
     "name": "stdout",
     "output_type": "stream",
     "text": [
      "Submarine Location:              horizontal_position=1909 depth=655\n",
      "Horizontal Position x Depth:     1250395\n"
     ]
    }
   ],
   "source": [
    "submarine = dive()\n",
    "\n",
    "print(\n",
    "    'Submarine Location:'.ljust(32), submarine)\n",
    "print(\n",
    "    'Horizontal Position x Depth:'.ljust(32),\n",
    "    submarine.horizontal_position * submarine.depth\n",
    ")"
   ]
  },
  {
   "cell_type": "markdown",
   "id": "df566292-b6cd-4500-9147-f1ba402f4960",
   "metadata": {},
   "source": [
    "<h2 id=\"part2\">--- Part Two ---</h2><p>Based on your calculations, the planned course doesn't seem to make any sense. You find the submarine manual and discover that the process is actually slightly more complicated.</p>\n",
    "<p>In addition to horizontal position and depth, you'll also need to track a third value, <em>aim</em>, which also starts at <code>0</code>. The commands also mean something entirely different than you first thought:</p>\n",
    "<ul>\n",
    "<li><code>down X</code> <em>increases</em> your aim by <code>X</code> units.</li>\n",
    "<li><code>up X</code> <em>decreases</em> your aim by <code>X</code> units.</li>\n",
    "<li><code>forward X</code> does two things:<ul>\n",
    "  <li>It increases your horizontal position by <code>X</code> units.</li>\n",
    "  <li>It increases your depth by your aim <em>multiplied by</em> <code>X</code>.</li>\n",
    "</ul></li>\n",
    "</ul>\n",
    "<p>Again note that since you're on a submarine, <code>down</code> and <code>up</code> do the opposite of what you might expect: \"down\" means aiming in the positive direction.</p>\n",
    "<p>Now, the above example does something different:</p>\n",
    "<ul>\n",
    "<li><code>forward 5</code> adds <code>5</code> to your horizontal position, a total of <code>5</code>. Because your aim is <code>0</code>, your depth does not change.</li>\n",
    "<li><code>down 5</code> adds <code>5</code> to your aim, resulting in a value of <code>5</code>.</li>\n",
    "<li><code>forward 8</code> adds <code>8</code> to your horizontal position, a total of <code>13</code>. Because your aim is <code>5</code>, your depth increases by <code>8*5=40</code>.</li>\n",
    "<li><code>up 3</code> decreases your aim by <code>3</code>, resulting in a value of <code>2</code>.</li>\n",
    "<li><code>down 8</code> adds <code>8</code> to your aim, resulting in a value of <code>10</code>.</li>\n",
    "<li><code>forward 2</code> adds <code>2</code> to your horizontal position, a total of <code>15</code>.  Because your aim is <code>10</code>, your depth increases by <code>2*10=20</code> to a total of <code>60</code>.</li>\n",
    "</ul>\n",
    "<p>After following these new instructions, you would have a horizontal position of <code>15</code> and a depth of <code>60</code>. (Multiplying these produces <code><em>900</em></code>.)</p>\n",
    "<p>Using this new interpretation of the commands, calculate the horizontal position and depth you would have after following the planned course. <em>What do you get if you multiply your final horizontal position by your final depth?</em></p>"
   ]
  },
  {
   "cell_type": "markdown",
   "id": "579781d7-ff5c-4216-9067-ffab2deefa87",
   "metadata": {},
   "source": [
    "## Solution"
   ]
  },
  {
   "cell_type": "code",
   "execution_count": 5,
   "id": "e0a95b1b-f026-4656-b702-bf3d9f14a954",
   "metadata": {},
   "outputs": [],
   "source": [
    "class AimingSubmarine(BaseModel):\n",
    "    horizontal_position: int = 0\n",
    "    depth: int = 0\n",
    "    aim: int = 0\n",
    "\n",
    "    class Config:\n",
    "        allow_mutation = False\n",
    "\n",
    "    def forward(self, units) -> 'AimingSubmarine':\n",
    "        return AimingSubmarine(\n",
    "            horizontal_position=self.horizontal_position + units,\n",
    "            depth=self.depth + units * self.aim,\n",
    "            aim=self.aim\n",
    "        )\n",
    "\n",
    "    def up(self, units) -> 'AimingSubmarine':\n",
    "        return AimingSubmarine(\n",
    "            horizontal_position=self.horizontal_position,\n",
    "            depth=self.depth,\n",
    "            aim=self.aim - units\n",
    "        )\n",
    "\n",
    "    def down(self, units) -> 'AimingSubmarine':\n",
    "        return AimingSubmarine(\n",
    "            horizontal_position=self.horizontal_position,\n",
    "            depth=self.depth,\n",
    "            aim=self.aim + units\n",
    "        )"
   ]
  },
  {
   "cell_type": "markdown",
   "id": "0aebac69-ee5c-4e75-9baa-676d46f7b49d",
   "metadata": {},
   "source": [
    "### Testing Our `AimingSubmarine`"
   ]
  },
  {
   "cell_type": "code",
   "execution_count": 6,
   "id": "ca85a4eb-64fd-4bab-bfc5-b634d38f275c",
   "metadata": {},
   "outputs": [],
   "source": [
    "example_instructions = '\\n'.join([\n",
    "    'forward 5',\n",
    "    'down 5',\n",
    "    'forward 8',\n",
    "    'up 3',\n",
    "    'down 8',\n",
    "    'forward 2'\n",
    "])\n",
    "\n",
    "example_submarine = dive(AimingSubmarine(), example_instructions)\n",
    "\n",
    "assert example_submarine.horizontal_position == 15\n",
    "assert example_submarine.depth == 60"
   ]
  },
  {
   "cell_type": "markdown",
   "id": "e815fd2f-fae0-4bc5-8079-cf4c2b5ed106",
   "metadata": {},
   "source": [
    "### Answer"
   ]
  },
  {
   "cell_type": "code",
   "execution_count": 7,
   "id": "98779872-3151-4685-a7bf-7defcd41b706",
   "metadata": {},
   "outputs": [
    {
     "name": "stdout",
     "output_type": "stream",
     "text": [
      "Submarine Location:              horizontal_position=1909 depth=760194 aim=655\n",
      "Horizontal Position x Depth:     1451210346\n"
     ]
    }
   ],
   "source": [
    "submarine = dive(AimingSubmarine())\n",
    "\n",
    "print(\n",
    "    'Submarine Location:'.ljust(32), submarine)\n",
    "print(\n",
    "    'Horizontal Position x Depth:'.ljust(32),\n",
    "    submarine.horizontal_position * submarine.depth\n",
    ")"
   ]
  },
  {
   "cell_type": "markdown",
   "id": "b4823408-d960-43fb-9b46-f7ab13a507d9",
   "metadata": {},
   "source": [
    "# Comments\n",
    "\n",
    "I didn't wind up taking advantage of Pydantic here, so pulling it in didn't really do me any favors.\n",
    "Forcing faux immutability also meant more verbose code.\n",
    "If there was an actual need to maintain multiple submarine classes, an abstract base class would fit nicely into this solution, with or without Pydantic and immutability."
   ]
  },
  {
   "cell_type": "code",
   "execution_count": 8,
   "id": "279e5d0c-474f-4606-b116-aada168e12d8",
   "metadata": {},
   "outputs": [
    {
     "name": "stdout",
     "output_type": "stream",
     "text": [
      "Vertical Dive Submarine Location:    horizontal_position=1909 depth=655 aim=0\n",
      "Horizontal Position x Depth:         1250395\n",
      "Diagonal Dive Submarine Location:    horizontal_position=1909 depth=760194 aim=655\n",
      "Horizontal Position x Depth:         1451210346\n"
     ]
    }
   ],
   "source": [
    "from abc import ABC, abstractmethod\n",
    "\n",
    "\n",
    "class Submarine(BaseModel, ABC):\n",
    "    horizontal_position: int = 0\n",
    "    depth: int = 0\n",
    "    aim: int = 0\n",
    "\n",
    "    @abstractmethod\n",
    "    def forward(self, units: int) -> 'Submarine': ...\n",
    "\n",
    "    @abstractmethod\n",
    "    def up(self, units: int) -> 'Submarine': ...\n",
    "\n",
    "    @abstractmethod\n",
    "    def down(self, units: int) -> 'Submarine': ...\n",
    "\n",
    "    def dive(self, instructions_text: str) -> Submarine:\n",
    "        instructions = (\n",
    "            Instruction.parse(instruction_string)\n",
    "            for instruction_string in instructions_text.split('\\n')\n",
    "        )\n",
    "        submarine = self\n",
    "\n",
    "        *_, submarine = (\n",
    "            submarine := getattr(submarine, instruction.direction)\n",
    "                                (instruction.units)\n",
    "            for instruction in instructions\n",
    "        )\n",
    "        return submarine\n",
    "\n",
    "\n",
    "class VerticalDiveSubmarine(Submarine):\n",
    "    def forward(self, units: int) -> 'VerticalDiveSubmarine':\n",
    "        self.horizontal_position += units\n",
    "        return self\n",
    "\n",
    "    def up(self, units: int) -> 'VerticalDiveSubmarine':\n",
    "        self.depth -= units\n",
    "        return self\n",
    "\n",
    "    def down(self, units: int) -> 'VerticalDiveSubmarine':\n",
    "        self.depth += units\n",
    "        return self\n",
    "\n",
    "\n",
    "class DiagonalDiveSubmarine(Submarine):\n",
    "    def forward(self, units) -> 'DiagonalDiveSubmarine':\n",
    "        self.horizontal_position += units\n",
    "        self.depth += units * self.aim\n",
    "        return self\n",
    "\n",
    "    def up(self, units) -> 'DiagonalDiveSubmarine':\n",
    "        self.aim -= units\n",
    "        return self\n",
    "\n",
    "    def down(self, units) -> 'DiagonalDiveSubmarine':\n",
    "        self.aim += units\n",
    "        return self\n",
    "\n",
    "\n",
    "vertical_dive_submarine = VerticalDiveSubmarine().dive(puzzle_input.as_text(day=2))\n",
    "diagonal_dive_submarine = DiagonalDiveSubmarine().dive(puzzle_input.as_text(day=2))\n",
    "\n",
    "\n",
    "print(\n",
    "    'Vertical Dive Submarine Location:'.ljust(36),\n",
    "    vertical_dive_submarine\n",
    ")\n",
    "print(\n",
    "    'Horizontal Position x Depth:'.ljust(36),\n",
    "    vertical_dive_submarine.horizontal_position * vertical_dive_submarine.depth\n",
    ")\n",
    "\n",
    "print(\n",
    "    'Diagonal Dive Submarine Location:'.ljust(36), diagonal_dive_submarine\n",
    ")\n",
    "print(\n",
    "    'Horizontal Position x Depth:'.ljust(36),\n",
    "    diagonal_dive_submarine.horizontal_position * diagonal_dive_submarine.depth\n",
    ")"
   ]
  }
 ],
 "metadata": {
  "kernelspec": {
   "display_name": "Python 3 (ipykernel)",
   "language": "python",
   "name": "python3"
  },
  "language_info": {
   "codemirror_mode": {
    "name": "ipython",
    "version": 3
   },
   "file_extension": ".py",
   "mimetype": "text/x-python",
   "name": "python",
   "nbconvert_exporter": "python",
   "pygments_lexer": "ipython3",
   "version": "3.10.0"
  }
 },
 "nbformat": 4,
 "nbformat_minor": 5
}
