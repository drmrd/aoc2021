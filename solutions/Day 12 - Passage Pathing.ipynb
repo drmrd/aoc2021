{
 "cells": [
  {
   "cell_type": "markdown",
   "id": "459a7b2a-5c26-42bb-9eae-778076de3361",
   "metadata": {},
   "source": [
    "## Imports"
   ]
  },
  {
   "cell_type": "code",
   "execution_count": 1,
   "id": "8781fb07-c684-4484-9da8-972152b3f8dd",
   "metadata": {},
   "outputs": [],
   "source": [
    "import itertools\n",
    "from copy import deepcopy\n",
    "\n",
    "import networkx as nx\n",
    "\n",
    "from aoc_utilities import puzzle_input"
   ]
  },
  {
   "cell_type": "markdown",
   "id": "71167730-b108-4bee-97ba-ba3e5e13104c",
   "metadata": {},
   "source": [
    "<h2>--- Day 12: Passage Pathing ---</h2><p>With your <span title=\"Sublime.\">submarine's subterranean subsystems subsisting suboptimally</span>, the only way you're getting out of this cave anytime soon is by finding a path yourself. Not just <em>a</em> path - the only way to know if you've found the <em>best</em> path is to find <em>all</em> of them.</p>\n",
    "<p>Fortunately, the sensors are still mostly working, and so you build a rough map of the remaining caves (your puzzle input). For example:</p>\n",
    "<pre><code>start-A\n",
    "start-b\n",
    "A-c\n",
    "A-b\n",
    "b-d\n",
    "A-end\n",
    "b-end\n",
    "</code></pre>\n",
    "<p>This is a list of how all of the caves are connected. You start in the cave named <code>start</code>, and your destination is the cave named <code>end</code>. An entry like <code>b-d</code> means that cave <code>b</code> is connected to cave <code>d</code> - that is, you can move between them.</p>\n",
    "<p>So, the above cave system looks roughly like this:</p>\n",
    "<pre><code>    start\n",
    "    /   \\\n",
    "c--A-----b--d\n",
    "    \\   /\n",
    "     end\n",
    "</code></pre>\n",
    "<p>Your goal is to find the number of distinct <em>paths</em> that start at <code>start</code>, end at <code>end</code>, and don't visit small caves more than once. There are two types of caves: <em>big</em> caves (written in uppercase, like <code>A</code>) and <em>small</em> caves (written in lowercase, like <code>b</code>). It would be a waste of time to visit any small cave more than once, but big caves are large enough that it might be worth visiting them multiple times. So, all paths you find should <em>visit small caves at most once</em>, and can <em>visit big caves any number of times</em>.</p>\n",
    "<p>Given these rules, there are <code><em>10</em></code> paths through this example cave system:</p>\n",
    "<pre><code>start,A,b,A,c,A,end\n",
    "start,A,b,A,end\n",
    "start,A,b,end\n",
    "start,A,c,A,b,A,end\n",
    "start,A,c,A,b,end\n",
    "start,A,c,A,end\n",
    "start,A,end\n",
    "start,b,A,c,A,end\n",
    "start,b,A,end\n",
    "start,b,end\n",
    "</code></pre>\n",
    "<p>(Each line in the above list corresponds to a single path; the caves visited by that path are listed in the order they are visited and separated by commas.)</p>\n",
    "<p>Note that in this cave system, cave <code>d</code> is never visited by any path: to do so, cave <code>b</code> would need to be visited twice (once on the way to cave <code>d</code> and a second time when returning from cave <code>d</code>), and since cave <code>b</code> is small, this is not allowed.</p>\n",
    "<p>Here is a slightly larger example:</p>\n",
    "<pre><code>dc-end\n",
    "HN-start\n",
    "start-kj\n",
    "dc-start\n",
    "dc-HN\n",
    "LN-dc\n",
    "HN-end\n",
    "kj-sa\n",
    "kj-HN\n",
    "kj-dc\n",
    "</code></pre>\n",
    "<p>The <code>19</code> paths through it are as follows:</p>\n",
    "<pre><code>start,HN,dc,HN,end\n",
    "start,HN,dc,HN,kj,HN,end\n",
    "start,HN,dc,end\n",
    "start,HN,dc,kj,HN,end\n",
    "start,HN,end\n",
    "start,HN,kj,HN,dc,HN,end\n",
    "start,HN,kj,HN,dc,end\n",
    "start,HN,kj,HN,end\n",
    "start,HN,kj,dc,HN,end\n",
    "start,HN,kj,dc,end\n",
    "start,dc,HN,end\n",
    "start,dc,HN,kj,HN,end\n",
    "start,dc,end\n",
    "start,dc,kj,HN,end\n",
    "start,kj,HN,dc,HN,end\n",
    "start,kj,HN,dc,end\n",
    "start,kj,HN,end\n",
    "start,kj,dc,HN,end\n",
    "start,kj,dc,end\n",
    "</code></pre>\n",
    "<p>Finally, this even larger example has <code>226</code> paths through it:</p>\n",
    "<pre><code>fs-end\n",
    "he-DX\n",
    "fs-he\n",
    "start-DX\n",
    "pj-DX\n",
    "end-zg\n",
    "zg-sl\n",
    "zg-pj\n",
    "pj-he\n",
    "RW-he\n",
    "fs-DX\n",
    "pj-RW\n",
    "zg-RW\n",
    "start-pj\n",
    "he-WI\n",
    "zg-he\n",
    "pj-fs\n",
    "start-RW\n",
    "</code></pre>\n",
    "<p><em>How many paths through this cave system are there that visit small caves at most once?</em></p>\n"
   ]
  },
  {
   "cell_type": "markdown",
   "id": "122da39b-c058-44e1-9743-4ddbf604edf9",
   "metadata": {},
   "source": [
    "## Solution\n",
    "Part 1 is _almost_ asking us to count up the simple paths in the graph $T$ whose nodes are caves and edges tunnels in a given tunnel system.\n",
    "I say \"almost\" because we are to include all paths that are simple with respect to the \"small cave\" nodes but may pass through big caves multiple times.\n",
    "I'll call such a path **small cave simple**.\n",
    "\n",
    "In my solution, I decided to force this problem to be about simple paths and use NetworkX rather than reimplement a slight variation of the usual breadth-first search algorithm for simple paths.\n",
    "To do this, I noted that this problem is equivalent to finding all simple paths in the multigraph $T_\\text{small}$ that is obtained from $T$ by adding edges between each pair of nodes adjacent to a big cave node $n$ in $T$ and then removing $n$."
   ]
  },
  {
   "cell_type": "code",
   "execution_count": 2,
   "id": "c262a2c9-52cc-4d10-adb3-eaf0bb9fc268",
   "metadata": {},
   "outputs": [],
   "source": [
    "def all_small_cave_simple_edge_paths(\n",
    "    G: nx.Graph, start='start', end='end'\n",
    "):\n",
    "    G_small = nx.MultiGraph(deepcopy(G))\n",
    "\n",
    "    big_caves = [cave for cave in G_small.nodes if cave == cave.upper()]\n",
    "    for big_cave in big_caves:\n",
    "        for edge in itertools.combinations(G_small[big_cave], 2):\n",
    "            G_small.add_edge(*edge, key=big_cave)\n",
    "        G_small.remove_node(big_cave)\n",
    "\n",
    "    yield from nx.simple_paths.all_simple_edge_paths(G_small, start, end)"
   ]
  },
  {
   "cell_type": "markdown",
   "id": "65ab53b4-2a0c-44b5-beab-75d794ce5081",
   "metadata": {},
   "source": [
    "### Testing"
   ]
  },
  {
   "cell_type": "code",
   "execution_count": 3,
   "id": "6215a923-d5af-4155-ade4-d75f9299aa46",
   "metadata": {},
   "outputs": [],
   "source": [
    "example_tunnel_logs = '''\n",
    "    fs-end he-DX fs-he start-DX pj-DX end-zg zg-sl zg-pj pj-he\n",
    "    RW-he fs-DX pj-RW zg-RW start-pj he-WI zg-he pj-fs start-RW\n",
    "'''.split()\n",
    "\n",
    "ET = nx.from_edgelist(tunnel.split('-') for tunnel in example_tunnel_logs)\n",
    "\n",
    "assert len(list(all_small_cave_simple_edge_paths(ET))) == 226"
   ]
  },
  {
   "cell_type": "markdown",
   "id": "25ad9123-b2bb-4f20-9e36-3cec9894886e",
   "metadata": {},
   "source": [
    "### Answer"
   ]
  },
  {
   "cell_type": "code",
   "execution_count": 4,
   "id": "1ead9ef4-0103-4270-b3e6-343b6bb6209c",
   "metadata": {},
   "outputs": [
    {
     "name": "stdout",
     "output_type": "stream",
     "text": [
      "Number of small-cave-simple paths through the tunnel system: 4338\n"
     ]
    }
   ],
   "source": [
    "T = nx.from_edgelist(\n",
    "    tunnel.split('-')\n",
    "    for tunnel in puzzle_input.as_text(day=12).split('\\n')\n",
    ")\n",
    "\n",
    "print(\n",
    "    'Number of small-cave-simple paths through the tunnel system:',\n",
    "    len(list(all_small_cave_simple_edge_paths(T)))\n",
    ")"
   ]
  }
 ],
 "metadata": {
  "kernelspec": {
   "display_name": "Python 3 (ipykernel)",
   "language": "python",
   "name": "python3"
  },
  "language_info": {
   "codemirror_mode": {
    "name": "ipython",
    "version": 3
   },
   "file_extension": ".py",
   "mimetype": "text/x-python",
   "name": "python",
   "nbconvert_exporter": "python",
   "pygments_lexer": "ipython3",
   "version": "3.10.0"
  }
 },
 "nbformat": 4,
 "nbformat_minor": 5
}
