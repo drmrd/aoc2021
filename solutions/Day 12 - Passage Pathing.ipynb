{
 "cells": [
  {
   "cell_type": "markdown",
   "id": "459a7b2a-5c26-42bb-9eae-778076de3361",
   "metadata": {},
   "source": [
    "## Imports"
   ]
  },
  {
   "cell_type": "code",
   "execution_count": 1,
   "id": "8781fb07-c684-4484-9da8-972152b3f8dd",
   "metadata": {},
   "outputs": [],
   "source": [
    "import itertools\n",
    "from copy import deepcopy\n",
    "from typing import Callable, List\n",
    "\n",
    "import networkx as nx\n",
    "\n",
    "from aoc_utilities import puzzle_input"
   ]
  },
  {
   "cell_type": "markdown",
   "id": "71167730-b108-4bee-97ba-ba3e5e13104c",
   "metadata": {},
   "source": [
    "<h2>--- Day 12: Passage Pathing ---</h2><p>With your <span title=\"Sublime.\">submarine's subterranean subsystems subsisting suboptimally</span>, the only way you're getting out of this cave anytime soon is by finding a path yourself. Not just <em>a</em> path - the only way to know if you've found the <em>best</em> path is to find <em>all</em> of them.</p>\n",
    "<p>Fortunately, the sensors are still mostly working, and so you build a rough map of the remaining caves (your puzzle input). For example:</p>\n",
    "<pre><code>start-A\n",
    "start-b\n",
    "A-c\n",
    "A-b\n",
    "b-d\n",
    "A-end\n",
    "b-end\n",
    "</code></pre>\n",
    "<p>This is a list of how all of the caves are connected. You start in the cave named <code>start</code>, and your destination is the cave named <code>end</code>. An entry like <code>b-d</code> means that cave <code>b</code> is connected to cave <code>d</code> - that is, you can move between them.</p>\n",
    "<p>So, the above cave system looks roughly like this:</p>\n",
    "<pre><code>    start\n",
    "    /   \\\n",
    "c--A-----b--d\n",
    "    \\   /\n",
    "     end\n",
    "</code></pre>\n",
    "<p>Your goal is to find the number of distinct <em>paths</em> that start at <code>start</code>, end at <code>end</code>, and don't visit small caves more than once. There are two types of caves: <em>big</em> caves (written in uppercase, like <code>A</code>) and <em>small</em> caves (written in lowercase, like <code>b</code>). It would be a waste of time to visit any small cave more than once, but big caves are large enough that it might be worth visiting them multiple times. So, all paths you find should <em>visit small caves at most once</em>, and can <em>visit big caves any number of times</em>.</p>\n",
    "<p>Given these rules, there are <code><em>10</em></code> paths through this example cave system:</p>\n",
    "<pre><code>start,A,b,A,c,A,end\n",
    "start,A,b,A,end\n",
    "start,A,b,end\n",
    "start,A,c,A,b,A,end\n",
    "start,A,c,A,b,end\n",
    "start,A,c,A,end\n",
    "start,A,end\n",
    "start,b,A,c,A,end\n",
    "start,b,A,end\n",
    "start,b,end\n",
    "</code></pre>\n",
    "<p>(Each line in the above list corresponds to a single path; the caves visited by that path are listed in the order they are visited and separated by commas.)</p>\n",
    "<p>Note that in this cave system, cave <code>d</code> is never visited by any path: to do so, cave <code>b</code> would need to be visited twice (once on the way to cave <code>d</code> and a second time when returning from cave <code>d</code>), and since cave <code>b</code> is small, this is not allowed.</p>\n",
    "<p>Here is a slightly larger example:</p>\n",
    "<pre><code>dc-end\n",
    "HN-start\n",
    "start-kj\n",
    "dc-start\n",
    "dc-HN\n",
    "LN-dc\n",
    "HN-end\n",
    "kj-sa\n",
    "kj-HN\n",
    "kj-dc\n",
    "</code></pre>\n",
    "<p>The <code>19</code> paths through it are as follows:</p>\n",
    "<pre><code>start,HN,dc,HN,end\n",
    "start,HN,dc,HN,kj,HN,end\n",
    "start,HN,dc,end\n",
    "start,HN,dc,kj,HN,end\n",
    "start,HN,end\n",
    "start,HN,kj,HN,dc,HN,end\n",
    "start,HN,kj,HN,dc,end\n",
    "start,HN,kj,HN,end\n",
    "start,HN,kj,dc,HN,end\n",
    "start,HN,kj,dc,end\n",
    "start,dc,HN,end\n",
    "start,dc,HN,kj,HN,end\n",
    "start,dc,end\n",
    "start,dc,kj,HN,end\n",
    "start,kj,HN,dc,HN,end\n",
    "start,kj,HN,dc,end\n",
    "start,kj,HN,end\n",
    "start,kj,dc,HN,end\n",
    "start,kj,dc,end\n",
    "</code></pre>\n",
    "<p>Finally, this even larger example has <code>226</code> paths through it:</p>\n",
    "<pre><code>fs-end\n",
    "he-DX\n",
    "fs-he\n",
    "start-DX\n",
    "pj-DX\n",
    "end-zg\n",
    "zg-sl\n",
    "zg-pj\n",
    "pj-he\n",
    "RW-he\n",
    "fs-DX\n",
    "pj-RW\n",
    "zg-RW\n",
    "start-pj\n",
    "he-WI\n",
    "zg-he\n",
    "pj-fs\n",
    "start-RW\n",
    "</code></pre>\n",
    "<p><em>How many paths through this cave system are there that visit small caves at most once?</em></p>\n"
   ]
  },
  {
   "cell_type": "markdown",
   "id": "122da39b-c058-44e1-9743-4ddbf604edf9",
   "metadata": {},
   "source": [
    "## Solution\n",
    "Part 1 is _almost_ asking us to count up the paths between a start and end node in the graph $T$ whose nodes are caves and edges tunnels in a given tunnel system.\n",
    "I say \"almost\" because we are to include all walks that pass through \"small cave\" nodes once but may pass through big caves multiple times.\n",
    "I'll call such a path **small cave-simple**.\n",
    "\n",
    "In my solution, I decided to force this problem to be about simple paths and use NetworkX rather than reimplement a slight variation of the usual breadth-first search algorithm for simple paths.\n",
    "To do this, I noted that this problem is equivalent to finding all simple paths in the multigraph $T_\\text{small}$ that is obtained from $T$ by adding edges between each pair of nodes adjacent to a big cave node $n$ in $T$ and then removing $n$."
   ]
  },
  {
   "cell_type": "code",
   "execution_count": 2,
   "id": "c262a2c9-52cc-4d10-adb3-eaf0bb9fc268",
   "metadata": {},
   "outputs": [],
   "source": [
    "def all_small_cave_simple_edge_paths(\n",
    "    G: nx.Graph, start='start', end='end'\n",
    "):\n",
    "    G_small = nx.MultiGraph(deepcopy(G))\n",
    "\n",
    "    big_caves = [cave for cave in G_small.nodes if cave.isupper()]\n",
    "    for big_cave in big_caves:\n",
    "        for edge in itertools.combinations(G_small[big_cave], 2):\n",
    "            G_small.add_edge(*edge, key=big_cave)\n",
    "        G_small.remove_node(big_cave)\n",
    "\n",
    "    yield from nx.simple_paths.all_simple_edge_paths(G_small, start, end)"
   ]
  },
  {
   "cell_type": "markdown",
   "id": "65ab53b4-2a0c-44b5-beab-75d794ce5081",
   "metadata": {},
   "source": [
    "### Testing"
   ]
  },
  {
   "cell_type": "code",
   "execution_count": 3,
   "id": "6215a923-d5af-4155-ade4-d75f9299aa46",
   "metadata": {},
   "outputs": [],
   "source": [
    "example_tunnel_logs = '''\n",
    "    fs-end he-DX fs-he start-DX pj-DX end-zg zg-sl zg-pj pj-he\n",
    "    RW-he fs-DX pj-RW zg-RW start-pj he-WI zg-he pj-fs start-RW\n",
    "'''.split()\n",
    "\n",
    "ET = nx.from_edgelist(tunnel.split('-') for tunnel in example_tunnel_logs)\n",
    "\n",
    "assert len(list(all_small_cave_simple_edge_paths(ET))) == 226"
   ]
  },
  {
   "cell_type": "markdown",
   "id": "25ad9123-b2bb-4f20-9e36-3cec9894886e",
   "metadata": {},
   "source": [
    "### Answer"
   ]
  },
  {
   "cell_type": "code",
   "execution_count": 4,
   "id": "1ead9ef4-0103-4270-b3e6-343b6bb6209c",
   "metadata": {},
   "outputs": [
    {
     "name": "stdout",
     "output_type": "stream",
     "text": [
      "Number of small cave-simple paths through the tunnel system: 4338\n"
     ]
    }
   ],
   "source": [
    "T = nx.from_edgelist(\n",
    "    tunnel.split('-')\n",
    "    for tunnel in puzzle_input.as_text(day=12).split('\\n')\n",
    ")\n",
    "\n",
    "print(\n",
    "    'Number of small cave-simple paths through the tunnel system:',\n",
    "    len(list(all_small_cave_simple_edge_paths(T)))\n",
    ")"
   ]
  },
  {
   "cell_type": "markdown",
   "id": "5e04b805-d3f7-401a-858d-fcce23ca4cfe",
   "metadata": {},
   "source": [
    "<h2 id=\"part2\">--- Part Two ---</h2><p>After reviewing the available paths, you realize you might have time to visit a single small cave <em>twice</em>. Specifically, big caves can be visited any number of times, a single small cave can be visited at most twice, and the remaining small caves can be visited at most once. However, the caves named <code>start</code> and <code>end</code> can only be visited <em>exactly once each</em>: once you leave the <code>start</code> cave, you may not return to it, and once you reach the <code>end</code> cave, the path must end immediately.</p>\n",
    "<p>Now, the <code>36</code> possible paths through the first example above are:</p>\n",
    "<pre><code>start,A,b,A,b,A,c,A,end\n",
    "start,A,b,A,b,A,end\n",
    "start,A,b,A,b,end\n",
    "start,A,b,A,c,A,b,A,end\n",
    "start,A,b,A,c,A,b,end\n",
    "start,A,b,A,c,A,c,A,end\n",
    "start,A,b,A,c,A,end\n",
    "start,A,b,A,end\n",
    "start,A,b,d,b,A,c,A,end\n",
    "start,A,b,d,b,A,end\n",
    "start,A,b,d,b,end\n",
    "start,A,b,end\n",
    "start,A,c,A,b,A,b,A,end\n",
    "start,A,c,A,b,A,b,end\n",
    "start,A,c,A,b,A,c,A,end\n",
    "start,A,c,A,b,A,end\n",
    "start,A,c,A,b,d,b,A,end\n",
    "start,A,c,A,b,d,b,end\n",
    "start,A,c,A,b,end\n",
    "start,A,c,A,c,A,b,A,end\n",
    "start,A,c,A,c,A,b,end\n",
    "start,A,c,A,c,A,end\n",
    "start,A,c,A,end\n",
    "start,A,end\n",
    "start,b,A,b,A,c,A,end\n",
    "start,b,A,b,A,end\n",
    "start,b,A,b,end\n",
    "start,b,A,c,A,b,A,end\n",
    "start,b,A,c,A,b,end\n",
    "start,b,A,c,A,c,A,end\n",
    "start,b,A,c,A,end\n",
    "start,b,A,end\n",
    "start,b,d,b,A,c,A,end\n",
    "start,b,d,b,A,end\n",
    "start,b,d,b,end\n",
    "start,b,end\n",
    "</code></pre>\n",
    "<p>The slightly larger example above now has <code>103</code> paths through it, and the even larger example now has <code>3509</code> paths through it.</p>\n",
    "<p>Given these new rules, <em>how many paths through this cave system are there?</em></p>"
   ]
  },
  {
   "cell_type": "markdown",
   "id": "477cdc9d-df62-486c-9904-1b37578f0727",
   "metadata": {},
   "source": [
    "## Solution\n",
    "\n",
    "And now on Day 12 I've at last been burned by trying to be cute/clever with our solutions!\n",
    "I can't think of a clever way to translate this problem into one supported by NetworkX out-of-the-box, so we'll roll our own breadth-first path generator here that'll work for Parts 1 and 2.\n",
    "NetworkX makes the solution nice and readable."
   ]
  },
  {
   "cell_type": "code",
   "execution_count": 5,
   "id": "bedf8dca-15d7-4dba-8fe0-042e2dd5b8e0",
   "metadata": {},
   "outputs": [],
   "source": [
    "def valid_walks(\n",
    "    G: nx.Graph,\n",
    "    valid_next_node_rule: Callable[[List[str], str], bool],\n",
    "    source='start',\n",
    "    target='end'\n",
    ") -> List[List[str]]:\n",
    "    partial_walks = [[source]]\n",
    "\n",
    "    while partial_walks:\n",
    "        partial_walk = partial_walks.pop()\n",
    "        last_node_in_walk = partial_walk[-1]\n",
    "\n",
    "        if target in G.neighbors(last_node_in_walk):\n",
    "            yield partial_walk + [target]\n",
    "\n",
    "        partial_walks.extend(\n",
    "            partial_walk + [neighbor]\n",
    "            for neighbor in G.neighbors(last_node_in_walk)\n",
    "            if neighbor not in {source, target}\n",
    "                and valid_next_node_rule(partial_walk, neighbor)\n",
    "        )"
   ]
  },
  {
   "cell_type": "markdown",
   "id": "480d517c-fe99-4de4-8170-571405762d63",
   "metadata": {},
   "source": [
    "Nice and readable, although it could almost certainly be optimized for time and space efficiency by converting to a memoized tail-recursive function that doesn't actually store the paths.\n",
    "(Despite my role playing based on the prompt, we need the number of paths from `'start'` to `'end'` in order to solve the puzzle, not the paths themselves.)\n",
    "Let's confirm this works to solve Part 1."
   ]
  },
  {
   "cell_type": "code",
   "execution_count": 6,
   "id": "03a6fe64-ae71-497a-aeb0-98f128f0fe2e",
   "metadata": {},
   "outputs": [
    {
     "name": "stdout",
     "output_type": "stream",
     "text": [
      "42.4 ms ± 632 µs per loop (mean ± std. dev. of 7 runs, 10 loops each)\n"
     ]
    }
   ],
   "source": [
    "%%timeit\n",
    "def unvisited_if_small_cave(walk: list[str], new_node) -> bool:\n",
    "    return new_node.isupper() or new_node not in walk\n",
    "\n",
    "\n",
    "assert len(list(valid_walks(ET, unvisited_if_small_cave))) == 226\n",
    "assert len(list(valid_walks(T, unvisited_if_small_cave))) == 4338"
   ]
  },
  {
   "cell_type": "markdown",
   "id": "393a0930-9e9c-4b38-910f-d1607ff8b2be",
   "metadata": {},
   "source": [
    "Good and in a reasonable amount of time.\n",
    "To solve Part 2, we just need to define a suitable `valid_next_node_rule` function."
   ]
  },
  {
   "cell_type": "code",
   "execution_count": 7,
   "id": "6ca2f72e-c2c9-4f55-8031-0af7c8d0994d",
   "metadata": {},
   "outputs": [],
   "source": [
    "def at_most_one_small_cave_visited_twice(walk, new_node):\n",
    "    return (\n",
    "        new_node.isupper()\n",
    "        or new_node not in walk\n",
    "        or (\n",
    "            new_node in walk\n",
    "            and max(walk.count(node) for node in walk if node.islower()) == 1\n",
    "        )\n",
    "    )"
   ]
  },
  {
   "cell_type": "markdown",
   "id": "d61eab4b-8dbd-4a98-ab15-9352e7d5832e",
   "metadata": {},
   "source": [
    "### Testing"
   ]
  },
  {
   "cell_type": "code",
   "execution_count": 8,
   "id": "6d1a98e6-495b-439f-9e34-5015f0cc0806",
   "metadata": {},
   "outputs": [
    {
     "name": "stdout",
     "output_type": "stream",
     "text": [
      "142 ms ± 656 µs per loop (mean ± std. dev. of 7 runs, 10 loops each)\n"
     ]
    }
   ],
   "source": [
    "%%timeit\n",
    "assert len(list(valid_walks(ET, at_most_one_small_cave_visited_twice))) == 3509"
   ]
  },
  {
   "cell_type": "markdown",
   "id": "fdd27dd8-55f1-48b5-bcc8-8011cf87aab9",
   "metadata": {},
   "source": [
    "### Answer"
   ]
  },
  {
   "cell_type": "code",
   "execution_count": 9,
   "id": "2f5ba54e-73d2-468b-9f75-11b81b10fa17",
   "metadata": {},
   "outputs": [
    {
     "name": "stdout",
     "output_type": "stream",
     "text": [
      "Number of specified walks through the tunnel system: 114189\n"
     ]
    }
   ],
   "source": [
    "print(\n",
    "    'Number of specified walks through the tunnel system:',\n",
    "    len(list(valid_walks(T, at_most_one_small_cave_visited_twice)))\n",
    ")"
   ]
  },
  {
   "cell_type": "markdown",
   "id": "41b4f150-e99b-4d3a-8ca2-1e47ddf53990",
   "metadata": {},
   "source": [
    "### Comment\n",
    "Predictably, the performance tanks when generating the final solution, but it's good enough for solving the puzzle.\n",
    "I'm sure there are other more optimized answers out there for anyone interested."
   ]
  },
  {
   "cell_type": "code",
   "execution_count": 10,
   "id": "fd0de936-e130-452d-b92e-30cb983bb184",
   "metadata": {},
   "outputs": [
    {
     "name": "stdout",
     "output_type": "stream",
     "text": [
      "4.78 s ± 26 ms per loop (mean ± std. dev. of 7 runs, 1 loop each)\n"
     ]
    }
   ],
   "source": [
    "%%timeit\n",
    "list(valid_walks(T, at_most_one_small_cave_visited_twice));"
   ]
  }
 ],
 "metadata": {
  "kernelspec": {
   "display_name": "Python 3 (ipykernel)",
   "language": "python",
   "name": "python3"
  },
  "language_info": {
   "codemirror_mode": {
    "name": "ipython",
    "version": 3
   },
   "file_extension": ".py",
   "mimetype": "text/x-python",
   "name": "python",
   "nbconvert_exporter": "python",
   "pygments_lexer": "ipython3",
   "version": "3.10.0"
  }
 },
 "nbformat": 4,
 "nbformat_minor": 5
}
