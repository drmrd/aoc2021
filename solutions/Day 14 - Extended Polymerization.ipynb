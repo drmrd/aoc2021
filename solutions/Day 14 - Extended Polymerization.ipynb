{
 "cells": [
  {
   "cell_type": "markdown",
   "id": "31e560b7-699f-45c3-9524-6ec46ea701eb",
   "metadata": {},
   "source": [
    "## Imports"
   ]
  },
  {
   "cell_type": "code",
   "execution_count": 1,
   "id": "5474b85f-66c5-4d7e-94b2-acec4fd8dabb",
   "metadata": {},
   "outputs": [],
   "source": [
    "from collections import Counter\n",
    "from itertools import chain, pairwise\n",
    "\n",
    "from aoc_utilities import puzzle_input"
   ]
  },
  {
   "cell_type": "markdown",
   "id": "b5320852-a5e6-4859-8555-50583f350ebd",
   "metadata": {},
   "source": [
    "<h2>--- Day 14: Extended Polymerization ---</h2><p>The incredible pressures at this depth are starting to put a strain on your submarine. The submarine has <a href=\"https://en.wikipedia.org/wiki/Polymerization\" target=\"_blank\">polymerization</a> equipment that would produce suitable materials to reinforce the submarine, and the nearby volcanically-active caves should even have the necessary input elements in sufficient quantities.</p>\n",
    "<p>The submarine manual contains <span title=\"HO HO -> OH\">instructions</span> for finding the optimal polymer formula; specifically, it offers a <em>polymer template</em> and a list of <em>pair insertion</em> rules (your puzzle input). You just need to work out what polymer would result after repeating the pair insertion process a few times.</p>\n",
    "<p>For example:</p>\n",
    "<pre><code>NNCB\n",
    "\n",
    "CH -&gt; B\n",
    "HH -&gt; N\n",
    "CB -&gt; H\n",
    "NH -&gt; C\n",
    "HB -&gt; C\n",
    "HC -&gt; B\n",
    "HN -&gt; C\n",
    "NN -&gt; C\n",
    "BH -&gt; H\n",
    "NC -&gt; B\n",
    "NB -&gt; B\n",
    "BN -&gt; B\n",
    "BB -&gt; N\n",
    "BC -&gt; B\n",
    "CC -&gt; N\n",
    "CN -&gt; C\n",
    "</code></pre>\n",
    "<p>The first line is the <em>polymer template</em> - this is the starting point of the process.</p>\n",
    "<p>The following section defines the <em>pair insertion</em> rules. A rule like <code>AB -&gt; C</code> means that when elements <code>A</code> and <code>B</code> are immediately adjacent, element <code>C</code> should be inserted between them. These insertions all happen simultaneously.</p>\n",
    "<p>So, starting with the polymer template <code>NNCB</code>, the first step simultaneously considers all three pairs:</p>\n",
    "<ul>\n",
    "<li>The first pair (<code>NN</code>) matches the rule <code>NN -&gt; C</code>, so element <code><em>C</em></code> is inserted between the first <code>N</code> and the second <code>N</code>.</li>\n",
    "<li>The second pair (<code>NC</code>) matches the rule <code>NC -&gt; B</code>, so element <code><em>B</em></code> is inserted between the <code>N</code> and the <code>C</code>.</li>\n",
    "<li>The third pair (<code>CB</code>) matches the rule <code>CB -&gt; H</code>, so element <code><em>H</em></code> is inserted between the <code>C</code> and the <code>B</code>.</li>\n",
    "</ul>\n",
    "<p>Note that these pairs overlap: the second element of one pair is the first element of the next pair. Also, because all pairs are considered simultaneously, inserted elements are not considered to be part of a pair until the next step.</p>\n",
    "<p>After the first step of this process, the polymer becomes <code>N<em>C</em>N<em>B</em>C<em>H</em>B</code>.</p>\n",
    "<p>Here are the results of a few steps using the above rules:</p>\n",
    "<pre><code>Template:     NNCB\n",
    "After step 1: NCNBCHB\n",
    "After step 2: NBCCNBBBCBHCB\n",
    "After step 3: NBBBCNCCNBBNBNBBCHBHHBCHB\n",
    "After step 4: NBBNBNBBCCNBCNCCNBBNBBNBBBNBBNBBCBHCBHHNHCBBCBHCB\n",
    "</code></pre>\n",
    "<p>This polymer grows quickly. After step 5, it has length 97; After step 10, it has length 3073. After step 10, <code>B</code> occurs 1749 times, <code>C</code> occurs 298 times, <code>H</code> occurs 161 times, and <code>N</code> occurs 865 times; taking the quantity of the most common element (<code>B</code>, 1749) and subtracting the quantity of the least common element (<code>H</code>, 161) produces <code>1749 - 161 = <em>1588</em></code>.</p>\n",
    "<p>Apply 10 steps of pair insertion to the polymer template and find the most and least common elements in the result. <em>What do you get if you take the quantity of the most common element and subtract the quantity of the least common element?</em></p>\n"
   ]
  },
  {
   "cell_type": "markdown",
   "id": "74efa820-83bd-4fec-b778-23e763e107c7",
   "metadata": {},
   "source": [
    "## Solution"
   ]
  },
  {
   "cell_type": "code",
   "execution_count": 2,
   "id": "f7476740-2f9d-4fca-bd8b-bd05903cc41f",
   "metadata": {},
   "outputs": [],
   "source": [
    "def process_polymer(instructions: str, iterations: int):\n",
    "    polymer_template, pair_insertion_rules = parse_polymer_instructions(instructions)\n",
    "    pair_counts = Counter(pairwise(polymer_template))\n",
    "\n",
    "    for _ in range(iterations):\n",
    "        pair_counts = _process_polymer_step(pair_counts, pair_insertion_rules)\n",
    "\n",
    "    element_counts = {\n",
    "        element: sum(\n",
    "            count for pair, count in pair_counts.items()\n",
    "            if pair[0] == element\n",
    "        )\n",
    "        for element in set(chain.from_iterable(pair_counts))\n",
    "    }\n",
    "    element_counts[polymer_template[-1]] += 1\n",
    "\n",
    "    return element_counts\n",
    "\n",
    "\n",
    "def parse_polymer_instructions(instructions: str):\n",
    "    polymer_template, rules_text = instructions.strip().split('\\n\\n')\n",
    "\n",
    "    pairs_and_insertions = (\n",
    "        rule_text.strip().split(' -> ')\n",
    "        for rule_text in rules_text.split('\\n')\n",
    "    )\n",
    "    \n",
    "    pair_insertion_rules = {\n",
    "        tuple(pair): [(pair[0], insertion), (insertion, pair[1])]\n",
    "        for pair, insertion in pairs_and_insertions\n",
    "    }\n",
    "\n",
    "    return polymer_template, pair_insertion_rules\n",
    "\n",
    "\n",
    "def _process_polymer_step(pair_counts, pair_insertion_rules):\n",
    "    pair_counts = pair_counts.copy()\n",
    "    pairs_to_update = Counter({\n",
    "        pair_with_rule: pair_counts[pair_with_rule]\n",
    "        for pair_with_rule in set(pair_counts) & set(pair_insertion_rules)\n",
    "    })\n",
    "\n",
    "    for pair_with_rule in pairs_to_update:\n",
    "        for new_pair in pair_insertion_rules[pair_with_rule]:\n",
    "            pair_counts[new_pair] += pairs_to_update[pair_with_rule]\n",
    "    return pair_counts - pairs_to_update"
   ]
  },
  {
   "cell_type": "markdown",
   "id": "4f83e16c-f49c-4e49-bcf5-2ff85ce6bb66",
   "metadata": {},
   "source": [
    "### Testing"
   ]
  },
  {
   "cell_type": "code",
   "execution_count": 3,
   "id": "71e231fe-79cc-4424-872f-d3ec91f23a6b",
   "metadata": {},
   "outputs": [],
   "source": [
    "example_instructions = '''\n",
    "    NNCB\n",
    "\n",
    "    CH -> B\n",
    "    HH -> N\n",
    "    CB -> H\n",
    "    NH -> C\n",
    "    HB -> C\n",
    "    HC -> B\n",
    "    HN -> C\n",
    "    NN -> C\n",
    "    BH -> H\n",
    "    NC -> B\n",
    "    NB -> B\n",
    "    BN -> B\n",
    "    BB -> N\n",
    "    BC -> B\n",
    "    CC -> N\n",
    "    CN -> C\n",
    "'''\n",
    "\n",
    "assert process_polymer(example_instructions, 1) == Counter('NCNBCHB')\n",
    "assert process_polymer(example_instructions, 2) == Counter('NBCCNBBBCBHCB')\n",
    "\n",
    "example_element_counts = process_polymer(example_instructions, 10).values()\n",
    "assert max(example_element_counts) - min(example_element_counts) == 1588"
   ]
  },
  {
   "cell_type": "markdown",
   "id": "14d184a3-2d5c-4083-9dea-a94c2c317f36",
   "metadata": {},
   "source": [
    "### Answer"
   ]
  },
  {
   "cell_type": "code",
   "execution_count": 4,
   "id": "ff6b6373-9d6f-42bf-b056-ce999b987f66",
   "metadata": {},
   "outputs": [
    {
     "name": "stdout",
     "output_type": "stream",
     "text": [
      "Difference in quantities of most and least frequent elements in polymer: 2112\n"
     ]
    }
   ],
   "source": [
    "element_counts = process_polymer(puzzle_input.as_text(day=14), iterations=10)\n",
    "\n",
    "print(\n",
    "    'Difference in quantities of most and least frequent elements in polymer:',\n",
    "    max(element_counts.values()) - min(element_counts.values())\n",
    ")"
   ]
  },
  {
   "cell_type": "markdown",
   "id": "a5432e78-74d3-49ca-9c5c-0b732b124d81",
   "metadata": {},
   "source": [
    "<h2 id=\"part2\">--- Part Two ---</h2><p>The resulting polymer isn't nearly strong enough to reinforce the submarine. You'll need to run more steps of the pair insertion process; a total of <em>40 steps</em> should do it.</p>\n",
    "<p>In the above example, the most common element is <code>B</code> (occurring <code>2192039569602</code> times) and the least common element is <code>H</code> (occurring <code>3849876073</code> times); subtracting these produces <code><em>2188189693529</em></code>.</p>\n",
    "<p>Apply <em>40</em> steps of pair insertion to the polymer template and find the most and least common elements in the result. <em>What do you get if you take the quantity of the most common element and subtract the quantity of the least common element?</em></p>\n"
   ]
  },
  {
   "cell_type": "markdown",
   "id": "8683c8f8-42c2-4fe7-a350-3f92cd8c1176",
   "metadata": {},
   "source": [
    "## Solution\n",
    "Nothing new to see here, folks."
   ]
  },
  {
   "cell_type": "code",
   "execution_count": 5,
   "id": "7c2d2213-e110-4925-8c8a-f1b33a6dfd9f",
   "metadata": {},
   "outputs": [
    {
     "name": "stdout",
     "output_type": "stream",
     "text": [
      "Difference in quantities of most and least frequent elements in polymer: 3243771149914\n"
     ]
    }
   ],
   "source": [
    "element_counts = process_polymer(puzzle_input.as_text(day=14), iterations=40)\n",
    "\n",
    "print(\n",
    "    'Difference in quantities of most and least frequent elements in polymer:',\n",
    "    max(element_counts.values()) - min(element_counts.values())\n",
    ")"
   ]
  },
  {
   "cell_type": "markdown",
   "id": "639df62e-39ac-480c-b2ad-85308b540ee5",
   "metadata": {},
   "source": [
    "## Performance."
   ]
  },
  {
   "cell_type": "code",
   "execution_count": 6,
   "id": "cf072224-8925-4b08-bd70-b95c1d86ecf6",
   "metadata": {},
   "outputs": [
    {
     "name": "stdout",
     "output_type": "stream",
     "text": [
      "5.01 ms ± 40.5 µs per loop (mean ± std. dev. of 7 runs, 100 loops each)\n"
     ]
    }
   ],
   "source": [
    "%%timeit instructions = puzzle_input.as_text(day=14)\n",
    "\n",
    "process_polymer(instructions, iterations=40)"
   ]
  }
 ],
 "metadata": {
  "kernelspec": {
   "display_name": "Python 3 (ipykernel)",
   "language": "python",
   "name": "python3"
  },
  "language_info": {
   "codemirror_mode": {
    "name": "ipython",
    "version": 3
   },
   "file_extension": ".py",
   "mimetype": "text/x-python",
   "name": "python",
   "nbconvert_exporter": "python",
   "pygments_lexer": "ipython3",
   "version": "3.10.0"
  }
 },
 "nbformat": 4,
 "nbformat_minor": 5
}
