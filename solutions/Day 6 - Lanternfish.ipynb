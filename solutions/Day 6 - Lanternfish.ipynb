{
 "cells": [
  {
   "cell_type": "markdown",
   "id": "46418b47-c7f7-474f-9fb3-0b5adbc78a7c",
   "metadata": {},
   "source": [
    "## Import & Inputs"
   ]
  },
  {
   "cell_type": "code",
   "execution_count": 1,
   "id": "b1bf91f9-1730-4132-9459-6ea63cb6d71b",
   "metadata": {},
   "outputs": [],
   "source": [
    "from collections import Counter\n",
    "from copy import deepcopy\n",
    "from pathlib import Path\n",
    "from typing import List\n",
    "\n",
    "import git\n",
    "\n",
    "\n",
    "REPO_ROOT = Path(git.Repo('.', search_parent_directories=True).working_tree_dir)\n",
    "PUZZLE_INPUT = REPO_ROOT / 'puzzle_inputs' / 'Day 6.txt'\n",
    "\n",
    "assert PUZZLE_INPUT.exists()"
   ]
  },
  {
   "cell_type": "markdown",
   "id": "dcd12eae-d6b2-4853-9b65-05d80dc44844",
   "metadata": {},
   "source": [
    "<h2>--- Day 6: Lanternfish ---</h2><p>The sea floor is getting steeper. Maybe the sleigh keys got carried this way?</p>\n",
    "<p>A massive school of glowing <a href=\"https://en.wikipedia.org/wiki/Lanternfish\" target=\"_blank\">lanternfish</a> swims past. They must spawn quickly to reach such large numbers - maybe <em>exponentially</em> quickly? You should model their growth rate to be sure.</p>\n",
    "<p>Although you know nothing about this specific species of lanternfish, you make some guesses about their attributes. Surely, <span title=\"I heard you like lanternfish.\">each lanternfish creates a new lanternfish</span> once every <em>7</em> days.</p>\n",
    "<p>However, this process isn't necessarily synchronized between every lanternfish - one lanternfish might have 2 days left until it creates another lanternfish, while another might have 4. So, you can model each fish as a single number that represents <em>the number of days until it creates a new lanternfish</em>.</p>\n",
    "<p>Furthermore, you reason, a <em>new</em> lanternfish would surely need slightly longer before it's capable of producing more lanternfish: two more days for its first cycle.</p>\n",
    "<p>So, suppose you have a lanternfish with an internal timer value of <code>3</code>:</p>\n",
    "<ul>\n",
    "<li>After one day, its internal timer would become <code>2</code>.</li>\n",
    "<li>After another day, its internal timer would become <code>1</code>.</li>\n",
    "<li>After another day, its internal timer would become <code>0</code>.</li>\n",
    "<li>After another day, its internal timer would reset to <code>6</code>, and it would create a <em>new</em> lanternfish with an internal timer of <code>8</code>.</li>\n",
    "<li>After another day, the first lanternfish would have an internal timer of <code>5</code>, and the second lanternfish would have an internal timer of <code>7</code>.</li>\n",
    "</ul>\n",
    "<p>A lanternfish that creates a new fish resets its timer to <code>6</code>, <em>not <code>7</code></em> (because <code>0</code> is included as a valid timer value). The new lanternfish starts with an internal timer of <code>8</code> and does not start counting down until the next day.</p>\n",
    "<p>Realizing what you're trying to do, the submarine automatically produces a list of the ages of several hundred nearby lanternfish (your puzzle input). For example, suppose you were given the following list:</p>\n",
    "<pre><code>3,4,3,1,2</code></pre>\n",
    "<p>This list means that the first fish has an internal timer of <code>3</code>, the second fish has an internal timer of <code>4</code>, and so on until the fifth fish, which has an internal timer of <code>2</code>. Simulating these fish over several days would proceed as follows:</p>\n",
    "<pre><code>Initial state: 3,4,3,1,2\n",
    "After  1 day:  2,3,2,0,1\n",
    "After  2 days: 1,2,1,6,0,8\n",
    "After  3 days: 0,1,0,5,6,7,8\n",
    "After  4 days: 6,0,6,4,5,6,7,8,8\n",
    "After  5 days: 5,6,5,3,4,5,6,7,7,8\n",
    "After  6 days: 4,5,4,2,3,4,5,6,6,7\n",
    "After  7 days: 3,4,3,1,2,3,4,5,5,6\n",
    "After  8 days: 2,3,2,0,1,2,3,4,4,5\n",
    "After  9 days: 1,2,1,6,0,1,2,3,3,4,8\n",
    "After 10 days: 0,1,0,5,6,0,1,2,2,3,7,8\n",
    "After 11 days: 6,0,6,4,5,6,0,1,1,2,6,7,8,8,8\n",
    "After 12 days: 5,6,5,3,4,5,6,0,0,1,5,6,7,7,7,8,8\n",
    "After 13 days: 4,5,4,2,3,4,5,6,6,0,4,5,6,6,6,7,7,8,8\n",
    "After 14 days: 3,4,3,1,2,3,4,5,5,6,3,4,5,5,5,6,6,7,7,8\n",
    "After 15 days: 2,3,2,0,1,2,3,4,4,5,2,3,4,4,4,5,5,6,6,7\n",
    "After 16 days: 1,2,1,6,0,1,2,3,3,4,1,2,3,3,3,4,4,5,5,6,8\n",
    "After 17 days: 0,1,0,5,6,0,1,2,2,3,0,1,2,2,2,3,3,4,4,5,7,8\n",
    "After 18 days: 6,0,6,4,5,6,0,1,1,2,6,0,1,1,1,2,2,3,3,4,6,7,8,8,8,8\n",
    "</code></pre>\n",
    "<p>Each day, a <code>0</code> becomes a <code>6</code> and adds a new <code>8</code> to the end of the list, while each other number decreases by 1 if it was present at the start of the day.</p>\n",
    "<p>In this example, after 18 days, there are a total of <code>26</code> fish. After 80 days, there would be a total of <code><em>5934</em></code>.</p>\n",
    "<p>Find a way to simulate lanternfish. <em>How many lanternfish would there be after 80 days?</em></p>\n"
   ]
  },
  {
   "cell_type": "markdown",
   "id": "4f23c983-c6b1-40d5-9933-a52b9982403b",
   "metadata": {},
   "source": [
    "## Solution"
   ]
  },
  {
   "cell_type": "code",
   "execution_count": 2,
   "id": "86ec3deb-f01d-4d80-a288-886af78477b6",
   "metadata": {},
   "outputs": [],
   "source": [
    "def clock_report_to_counts(lanternfish_clock_report: str) -> List[int]:\n",
    "    initial_lanternfish_internal_clocks = [\n",
    "        int(internal_clock)\n",
    "        for internal_clock in lanternfish_clock_report.strip().split(',')\n",
    "    ]\n",
    "\n",
    "    c = Counter({clock_value: 0 for clock_value in range(9)})\n",
    "    c.update(initial_lanternfish_internal_clocks)\n",
    "    return list(c.values())\n",
    "\n",
    "\n",
    "def lanternfish_counts(initial_counts, days):\n",
    "    counts = deepcopy(initial_counts)\n",
    "    for _ in range(days):\n",
    "        to_reset = counts[0]\n",
    "        counts[:8], counts[8] = counts[1:], to_reset\n",
    "        counts[6] += to_reset\n",
    "    return counts"
   ]
  },
  {
   "cell_type": "markdown",
   "id": "f74d300b-0b7e-42e0-8c78-1485ea2d6cd4",
   "metadata": {},
   "source": [
    "### Testing"
   ]
  },
  {
   "cell_type": "code",
   "execution_count": 3,
   "id": "4aea4e4d-389f-48ac-99c0-24ab095f9e78",
   "metadata": {},
   "outputs": [],
   "source": [
    "assert sum(lanternfish_counts(clock_report_to_counts('3,4,3,1,2'), 18)) == 26"
   ]
  },
  {
   "cell_type": "markdown",
   "id": "afa2a510-f1f9-4f4c-ae7d-0e8931010a5e",
   "metadata": {},
   "source": [
    "### Answer"
   ]
  },
  {
   "cell_type": "code",
   "execution_count": 4,
   "id": "b4e71e5c-651a-4fa5-bef8-71034cd47ed1",
   "metadata": {},
   "outputs": [
    {
     "data": {
      "text/plain": [
       "359999"
      ]
     },
     "execution_count": 4,
     "metadata": {},
     "output_type": "execute_result"
    }
   ],
   "source": [
    "sum(lanternfish_counts(clock_report_to_counts(PUZZLE_INPUT.read_text()), 80))"
   ]
  },
  {
   "cell_type": "markdown",
   "id": "2ab49461-1f19-4bf1-a084-13851f287661",
   "metadata": {},
   "source": [
    "<h2 id=\"part2\">--- Part Two ---</h2><p>Suppose the lanternfish live forever and have unlimited food and space. Would they take over the entire ocean?</p>\n",
    "<p>After 256 days in the example above, there would be a total of <code><em>26984457539</em></code> lanternfish!</p>\n",
    "<p><em>How many lanternfish would there be after 256 days?</em></p>"
   ]
  },
  {
   "cell_type": "markdown",
   "id": "790379c4-4612-4a22-95ec-769097c5730c",
   "metadata": {},
   "source": [
    "### Answer"
   ]
  },
  {
   "cell_type": "code",
   "execution_count": 5,
   "id": "0734b005-b521-41dc-80b9-e33518a37916",
   "metadata": {},
   "outputs": [
    {
     "data": {
      "text/plain": [
       "1631647919273"
      ]
     },
     "execution_count": 5,
     "metadata": {},
     "output_type": "execute_result"
    }
   ],
   "source": [
    "sum(lanternfish_counts(clock_report_to_counts(PUZZLE_INPUT.read_text()), 256))"
   ]
  }
 ],
 "metadata": {
  "kernelspec": {
   "display_name": "Python 3 (ipykernel)",
   "language": "python",
   "name": "python3"
  },
  "language_info": {
   "codemirror_mode": {
    "name": "ipython",
    "version": 3
   },
   "file_extension": ".py",
   "mimetype": "text/x-python",
   "name": "python",
   "nbconvert_exporter": "python",
   "pygments_lexer": "ipython3",
   "version": "3.10.0"
  }
 },
 "nbformat": 4,
 "nbformat_minor": 5
}
