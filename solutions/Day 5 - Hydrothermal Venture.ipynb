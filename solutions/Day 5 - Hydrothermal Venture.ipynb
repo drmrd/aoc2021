{
 "cells": [
  {
   "cell_type": "markdown",
   "id": "8a2a260a-491d-4012-b95e-43551f4388f0",
   "metadata": {},
   "source": [
    "## Imports & Inputs"
   ]
  },
  {
   "cell_type": "code",
   "execution_count": 1,
   "id": "d93294b1-b5dc-4066-b57f-09f246c2cae7",
   "metadata": {},
   "outputs": [],
   "source": [
    "from pathlib import Path\n",
    "from typing import Callable, Iterable, List, Sequence, Tuple\n",
    "\n",
    "import git\n",
    "import numpy as np\n",
    "import numpy.typing as npt\n",
    "\n",
    "\n",
    "REPO_ROOT = Path(git.Repo('.', search_parent_directories=True).working_tree_dir)\n",
    "PUZZLE_INPUT = REPO_ROOT / 'puzzle_inputs' / 'Day 5.txt'\n",
    "\n",
    "assert PUZZLE_INPUT.exists()"
   ]
  },
  {
   "cell_type": "markdown",
   "id": "40e356bf-c6e0-4409-a236-061708749d41",
   "metadata": {},
   "source": [
    "<h2>--- Day 5: Hydrothermal Venture ---</h2><p>You come across a field of <a href=\"https://en.wikipedia.org/wiki/Hydrothermal_vent\" target=\"_blank\">hydrothermal vents</a> on the ocean floor! These vents constantly produce large, opaque clouds, so it would be best to avoid them if possible.</p>\n",
    "<p>They tend to form in <em>lines</em>; the submarine helpfully produces a list of nearby <span title=\"Maybe they're Bresenham vents.\">lines of vents</span> (your puzzle input) for you to review. For example:</p>\n",
    "<pre><code>0,9 -&gt; 5,9\n",
    "8,0 -&gt; 0,8\n",
    "9,4 -&gt; 3,4\n",
    "2,2 -&gt; 2,1\n",
    "7,0 -&gt; 7,4\n",
    "6,4 -&gt; 2,0\n",
    "0,9 -&gt; 2,9\n",
    "3,4 -&gt; 1,4\n",
    "0,0 -&gt; 8,8\n",
    "5,5 -&gt; 8,2\n",
    "</code></pre>\n",
    "<p>Each line of vents is given as a line segment in the format <code>x1,y1 -&gt; x2,y2</code> where <code>x1</code>,<code>y1</code> are the coordinates of one end the line segment and <code>x2</code>,<code>y2</code> are the coordinates of the other end. These line segments include the points at both ends. In other words:</p>\n",
    "<ul>\n",
    "<li>An entry like <code>1,1 -&gt; 1,3</code> covers points <code>1,1</code>, <code>1,2</code>, and <code>1,3</code>.</li>\n",
    "<li>An entry like <code>9,7 -&gt; 7,7</code> covers points <code>9,7</code>, <code>8,7</code>, and <code>7,7</code>.</li>\n",
    "</ul>\n",
    "<p>For now, <em>only consider horizontal and vertical lines</em>: lines where either <code>x1 = x2</code> or <code>y1 = y2</code>.</p>\n",
    "<p>So, the horizontal and vertical lines from the above list would produce the following diagram:</p>\n",
    "<pre><code>.......1..\n",
    "..1....1..\n",
    "..1....1..\n",
    ".......1..\n",
    ".112111211\n",
    "..........\n",
    "..........\n",
    "..........\n",
    "..........\n",
    "222111....\n",
    "</code></pre>\n",
    "<p>In this diagram, the top left corner is <code>0,0</code> and the bottom right corner is <code>9,9</code>. Each position is shown as <em>the number of lines which cover that point</em> or <code>.</code> if no line covers that point. The top-left pair of <code>1</code>s, for example, comes from <code>2,2 -&gt; 2,1</code>; the very bottom row is formed by the overlapping lines <code>0,9 -&gt; 5,9</code> and <code>0,9 -&gt; 2,9</code>.</p>\n",
    "<p>To avoid the most dangerous areas, you need to determine <em>the number of points where at least two lines overlap</em>. In the above example, this is anywhere in the diagram with a <code>2</code> or larger - a total of <code><em>5</em></code> points.</p>\n",
    "<p>Consider only horizontal and vertical lines. <em>At how many points do at least two lines overlap?</em></p>\n"
   ]
  },
  {
   "cell_type": "markdown",
   "id": "ef7e1da2-54e9-417f-be7a-b4f15e6964a4",
   "metadata": {},
   "source": [
    "### Solution\n",
    "NumPy makes this dirt simple."
   ]
  },
  {
   "cell_type": "code",
   "execution_count": 2,
   "id": "64e91f39-3cf2-4dc0-9fc9-2e85eb77ca98",
   "metadata": {},
   "outputs": [
    {
     "data": {
      "text/plain": [
       "7297"
      ]
     },
     "execution_count": 2,
     "metadata": {},
     "output_type": "execute_result"
    }
   ],
   "source": [
    "def parse_vent_report(vent_report: str) -> List[List[Tuple[int, int]]]:\n",
    "    return [\n",
    "        [\n",
    "            tuple(map(int, point.split(',')))\n",
    "            for point in vent.strip().split(' -> ')\n",
    "        ]\n",
    "        for vent in vent_report.strip().split('\\n')\n",
    "    ]\n",
    "\n",
    "\n",
    "def vertical_and_horizontal_vents(vent_list):\n",
    "    return [\n",
    "        [(x1, y1), (x2, y2)]\n",
    "        for [(x1, y1), (x2, y2)] in vent_list\n",
    "        if x1 == x2 or y1 == y2\n",
    "    ]\n",
    "\n",
    "\n",
    "vent_list = parse_vent_report(PUZZLE_INPUT.read_text())\n",
    "seafloor = np.zeros((1000, 1000), dtype=int)\n",
    "sign = lambda a, b: 1 if a <= b else -1\n",
    "\n",
    "for [(x1, y1), (x2, y2)] in vertical_and_horizontal_vents(vent_list):\n",
    "    seafloor[\n",
    "        tuple([\n",
    "            np.arange(x1, x2 + sign(x1, x2), sign(x1, x2)),\n",
    "            np.arange(y1, y2 + sign(y1, y2), sign(y1, y2))\n",
    "        ])\n",
    "    ] += 1\n",
    "\n",
    "(seafloor > 1).sum()"
   ]
  }
 ],
 "metadata": {
  "kernelspec": {
   "display_name": "Python 3 (ipykernel)",
   "language": "python",
   "name": "python3"
  },
  "language_info": {
   "codemirror_mode": {
    "name": "ipython",
    "version": 3
   },
   "file_extension": ".py",
   "mimetype": "text/x-python",
   "name": "python",
   "nbconvert_exporter": "python",
   "pygments_lexer": "ipython3",
   "version": "3.10.0"
  }
 },
 "nbformat": 4,
 "nbformat_minor": 5
}
