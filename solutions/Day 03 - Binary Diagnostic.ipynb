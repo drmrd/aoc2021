{
 "cells": [
  {
   "cell_type": "markdown",
   "id": "a6097fbd-5700-470f-986e-c6a7cd8e3e05",
   "metadata": {},
   "source": [
    "## Imports"
   ]
  },
  {
   "cell_type": "code",
   "execution_count": 1,
   "id": "8c716327-4505-4829-b506-3dfe12a732e3",
   "metadata": {},
   "outputs": [],
   "source": [
    "from typing import Callable\n",
    "\n",
    "import numpy as np\n",
    "\n",
    "from aoc_utilities import puzzle_input"
   ]
  },
  {
   "cell_type": "markdown",
   "id": "ac360ca6-f814-4ba9-86a5-b0abe8142052",
   "metadata": {
    "tags": []
   },
   "source": [
    "<h2>--- Day 3: Binary Diagnostic ---</h2><p>The submarine has been making some <span title=\"Turns out oceans are heavy.\">odd creaking noises</span>, so you ask it to produce a diagnostic report just in case.</p>\n",
    "<p>The diagnostic report (your puzzle input) consists of a list of binary numbers which, when decoded properly, can tell you many useful things about the conditions of the submarine. The first parameter to check is the <em>power consumption</em>.</p>\n",
    "<p>You need to use the binary numbers in the diagnostic report to generate two new binary numbers (called the <em>gamma rate</em> and the <em>epsilon rate</em>). The power consumption can then be found by multiplying the gamma rate by the epsilon rate.</p>\n",
    "<p>Each bit in the gamma rate can be determined by finding the <em>most common bit in the corresponding position</em> of all numbers in the diagnostic report. For example, given the following diagnostic report:</p>\n",
    "<pre><code>00100\n",
    "11110\n",
    "10110\n",
    "10111\n",
    "10101\n",
    "01111\n",
    "00111\n",
    "11100\n",
    "10000\n",
    "11001\n",
    "00010\n",
    "01010\n",
    "</code></pre>\n",
    "<p>Considering only the first bit of each number, there are five <code>0</code> bits and seven <code>1</code> bits. Since the most common bit is <code>1</code>, the first bit of the gamma rate is <code>1</code>.</p>\n",
    "<p>The most common second bit of the numbers in the diagnostic report is <code>0</code>, so the second bit of the gamma rate is <code>0</code>.</p>\n",
    "<p>The most common value of the third, fourth, and fifth bits are <code>1</code>, <code>1</code>, and <code>0</code>, respectively, and so the final three bits of the gamma rate are <code>110</code>.</p>\n",
    "<p>So, the gamma rate is the binary number <code>10110</code>, or <code><em>22</em></code> in decimal.</p>\n",
    "<p>The epsilon rate is calculated in a similar way; rather than use the most common bit, the least common bit from each position is used. So, the epsilon rate is <code>01001</code>, or <code><em>9</em></code> in decimal. Multiplying the gamma rate (<code>22</code>) by the epsilon rate (<code>9</code>) produces the power consumption, <code><em>198</em></code>.</p>\n",
    "<p>Use the binary numbers in your diagnostic report to calculate the gamma rate and epsilon rate, then multiply them together. <em>What is the power consumption of the submarine?</em> (Be sure to represent your answer in decimal, not binary.)</p>"
   ]
  },
  {
   "cell_type": "markdown",
   "id": "f606358c-4f1f-4bba-98d7-bfdbb9d036bd",
   "metadata": {},
   "source": [
    "### Solution"
   ]
  },
  {
   "cell_type": "code",
   "execution_count": 2,
   "id": "41749185-5d7a-42de-8363-18bfb3c8a654",
   "metadata": {},
   "outputs": [],
   "source": [
    "def compute_power_consumption(diagnostic_report: str) -> int:\n",
    "    diagnostic_bit_arrays = string_to_bit_arrays(diagnostic_report)\n",
    "\n",
    "    report_length = diagnostic_bit_arrays.shape[0]\n",
    "\n",
    "    gamma_rate_bit_array = (\n",
    "        diagnostic_bit_arrays.sum(axis=0) >= (report_length // 2 + report_length % 2)\n",
    "    )\n",
    "    epsilon_rate_bit_array = ~gamma_rate_bit_array\n",
    "\n",
    "    gamma_rate = int_from_bit_array(gamma_rate_bit_array)\n",
    "    epsilon_rate = int_from_bit_array(epsilon_rate_bit_array)\n",
    "    return gamma_rate * epsilon_rate\n",
    "\n",
    "\n",
    "def string_to_bit_arrays(string) -> np.ndarray:\n",
    "    return np.array([\n",
    "        [bool(int(character)) for character in binary_representation]\n",
    "        for binary_representation in string.split()\n",
    "    ])\n",
    "\n",
    "\n",
    "def int_from_bit_array(bit_array: np.ndarray) -> int:\n",
    "    binary_representation = ''.join(bit_array.astype(int).astype(str))\n",
    "    return int(binary_representation, base=2)"
   ]
  },
  {
   "cell_type": "markdown",
   "id": "e8a297c9-d2e2-48ba-81d4-473110175920",
   "metadata": {},
   "source": [
    "### Testing Power Consumption Finder"
   ]
  },
  {
   "cell_type": "code",
   "execution_count": 3,
   "id": "40b024c2-d906-4cb7-a95b-7f315f3ceade",
   "metadata": {},
   "outputs": [],
   "source": [
    "example_diagnostic_report = '\\n'.join([\n",
    "    '00100', '11110', '10110', '10111',\n",
    "    '10101', '01111', '00111', '11100',\n",
    "    '10000', '11001', '00010', '01010'\n",
    "])\n",
    "\n",
    "assert compute_power_consumption(example_diagnostic_report) == 198"
   ]
  },
  {
   "cell_type": "markdown",
   "id": "4b92cb03-e85f-415a-8ab5-7c89a2417221",
   "metadata": {},
   "source": [
    "### Answer"
   ]
  },
  {
   "cell_type": "code",
   "execution_count": 4,
   "id": "faf4e59e-4d28-43b7-9760-b20054c128e6",
   "metadata": {},
   "outputs": [
    {
     "data": {
      "text/plain": [
       "2648450"
      ]
     },
     "execution_count": 4,
     "metadata": {},
     "output_type": "execute_result"
    }
   ],
   "source": [
    "compute_power_consumption(puzzle_input.as_text(day=3))"
   ]
  },
  {
   "cell_type": "markdown",
   "id": "70aed8a4-6754-44db-81eb-5c2853658fb2",
   "metadata": {},
   "source": [
    "<h2 id=\"part2\">--- Part Two ---</h2><p>Next, you should verify the <em>life support rating</em>, which can be determined by multiplying the <em>oxygen generator rating</em> by the <em>CO2 scrubber rating</em>.</p>\n",
    "<p>Both the oxygen generator rating and the CO2 scrubber rating are values that can be found in your diagnostic report - finding them is the tricky part. Both values are located using a similar process that involves filtering out values until only one remains. Before searching for either rating value, start with the full list of binary numbers from your diagnostic report and <em>consider just the first bit</em> of those numbers. Then:</p>\n",
    "<ul>\n",
    "<li>Keep only numbers selected by the <em>bit criteria</em> for the type of rating value for which you are searching. Discard numbers which do not match the bit criteria.</li>\n",
    "<li>If you only have one number left, stop; this is the rating value for which you are searching.</li>\n",
    "<li>Otherwise, repeat the process, considering the next bit to the right.</li>\n",
    "</ul>\n",
    "<p>The <em>bit criteria</em> depends on which type of rating value you want to find:</p>\n",
    "<ul>\n",
    "<li>To find <em>oxygen generator rating</em>, determine the <em>most common</em> value (<code>0</code> or <code>1</code>) in the current bit position, and keep only numbers with that bit in that position. If <code>0</code> and <code>1</code> are equally common, keep values with a <code><em>1</em></code> in the position being considered.</li>\n",
    "<li>To find <em>CO2 scrubber rating</em>, determine the <em>least common</em> value (<code>0</code> or <code>1</code>) in the current bit position, and keep only numbers with that bit in that position. If <code>0</code> and <code>1</code> are equally common, keep values with a <code><em>0</em></code> in the position being considered.</li>\n",
    "</ul>\n",
    "<p>For example, to determine the <em>oxygen generator rating</em> value using the same example diagnostic report from above:</p>\n",
    "<ul>\n",
    "<li>Start with all 12 numbers and consider only the first bit of each number. There are more <code>1</code> bits (7) than <code>0</code> bits (5), so keep only the 7 numbers with a <code>1</code> in the first position: <code>11110</code>, <code>10110</code>, <code>10111</code>, <code>10101</code>, <code>11100</code>, <code>10000</code>, and <code>11001</code>.</li>\n",
    "<li>Then, consider the second bit of the 7 remaining numbers: there are more <code>0</code> bits (4) than <code>1</code> bits (3), so keep only the 4 numbers with a <code>0</code> in the second position: <code>10110</code>, <code>10111</code>, <code>10101</code>, and <code>10000</code>.</li>\n",
    "<li>In the third position, three of the four numbers have a <code>1</code>, so keep those three: <code>10110</code>, <code>10111</code>, and <code>10101</code>.</li>\n",
    "<li>In the fourth position, two of the three numbers have a <code>1</code>, so keep those two: <code>10110</code> and <code>10111</code>.</li>\n",
    "<li>In the fifth position, there are an equal number of <code>0</code> bits and <code>1</code> bits (one each). So, to find the <em>oxygen generator rating</em>, keep the number with a <code>1</code> in that position: <code>10111</code>.</li>\n",
    "<li>As there is only one number left, stop; the <em>oxygen generator rating</em> is <code>10111</code>, or <code><em>23</em></code> in decimal.</li>\n",
    "</ul>\n",
    "<p>Then, to determine the <em>CO2 scrubber rating</em> value from the same example above:</p>\n",
    "<ul>\n",
    "<li>Start again with all 12 numbers and consider only the first bit of each number. There are fewer <code>0</code> bits (5) than <code>1</code> bits (7), so keep only the 5 numbers with a <code>0</code> in the first position: <code>00100</code>, <code>01111</code>, <code>00111</code>, <code>00010</code>, and <code>01010</code>.</li>\n",
    "<li>Then, consider the second bit of the 5 remaining numbers: there are fewer <code>1</code> bits (2) than <code>0</code> bits (3), so keep only the 2 numbers with a <code>1</code> in the second position: <code>01111</code> and <code>01010</code>.</li>\n",
    "<li>In the third position, there are an equal number of <code>0</code> bits and <code>1</code> bits (one each). So, to find the <em>CO2 scrubber rating</em>, keep the number with a <code>0</code> in that position: <code>01010</code>.</li>\n",
    "<li>As there is only one number left, stop; the <em>CO2 scrubber rating</em> is <code>01010</code>, or <code><em>10</em></code> in decimal.</li>\n",
    "</ul>\n",
    "<p>Finally, to find the life support rating, multiply the oxygen generator rating (<code>23</code>) by the CO2 scrubber rating (<code>10</code>) to get <code><em>230</em></code>.</p>\n",
    "<p>Use the binary numbers in your diagnostic report to calculate the oxygen generator rating and CO2 scrubber rating, then multiply them together. <em>What is the life support rating of the submarine?</em> (Be sure to represent your answer in decimal, not binary.)</p>"
   ]
  },
  {
   "cell_type": "markdown",
   "id": "97933fc2-97f1-444b-b4c9-7390b0e4dcd7",
   "metadata": {},
   "source": [
    "### Solution"
   ]
  },
  {
   "cell_type": "code",
   "execution_count": 5,
   "id": "55993b2b-89e8-4a3a-accf-0a2185ce1be4",
   "metadata": {},
   "outputs": [],
   "source": [
    "def find_life_support_rating(diagnostic_report: str) -> int:\n",
    "    return find_subsystem_rating(\n",
    "        diagnostic_report,\n",
    "        find_oxygen_generator_rating_candidates\n",
    "    ) * find_subsystem_rating(\n",
    "        diagnostic_report,\n",
    "        find_co2_scrubber_rating_candidates\n",
    "    )\n",
    "\n",
    "\n",
    "def find_subsystem_rating(\n",
    "    diagnostic_report: str,\n",
    "    filter_candidates_indexwise: Callable[[np.ndarray, int], np.ndarray]\n",
    ") -> int:\n",
    "    remaining_candidates = string_to_bit_arrays(diagnostic_report)\n",
    "\n",
    "    for bit_index in range(remaining_candidates.shape[1]):\n",
    "        remaining_candidates = filter_candidates_indexwise(\n",
    "            remaining_candidates,\n",
    "            bit_index\n",
    "        )\n",
    "        if remaining_candidates.shape[0] == 1:\n",
    "            break\n",
    "\n",
    "    return int_from_bit_array(remaining_candidates[0])\n",
    "\n",
    "\n",
    "def find_rating_candidates(\n",
    "    bit_arrays: np.ndarray,\n",
    "    bit_index: int,\n",
    "    desired_bit: Callable[[int, int], bool],\n",
    "    tie_breaker_bit_value: bool\n",
    ") -> np.ndarray:\n",
    "    array_count = bit_arrays.shape[0]\n",
    "    one_frequency = bit_arrays.sum(axis=0)[bit_index]\n",
    "    zero_frequency = array_count - one_frequency\n",
    "\n",
    "    desired_bit_value = desired_bit(zero_frequency, one_frequency)\n",
    "\n",
    "    return bit_arrays[(\n",
    "        (\n",
    "            (one_frequency != zero_frequency)\n",
    "            & (bit_arrays[:, bit_index] == desired_bit_value)\n",
    "        ) | (\n",
    "            (one_frequency == zero_frequency)\n",
    "            & (bit_arrays[:, bit_index] == tie_breaker_bit_value)\n",
    "        )\n",
    "    )]\n",
    "\n",
    "\n",
    "def find_oxygen_generator_rating_candidates(\n",
    "    bit_arrays: np.ndarray,\n",
    "    bit_index: int\n",
    ") -> np.ndarray:\n",
    "    most_common_bit = lambda zero_frequency, one_frequency: one_frequency > zero_frequency\n",
    "    return find_rating_candidates(\n",
    "        bit_arrays,\n",
    "        bit_index,\n",
    "        most_common_bit,\n",
    "        True\n",
    "    )\n",
    "\n",
    "\n",
    "def find_co2_scrubber_rating_candidates(\n",
    "    bit_arrays: np.ndarray, bit_index: int\n",
    ") -> np.ndarray:\n",
    "    least_common_bit = lambda zero_frequency, one_frequency: one_frequency < zero_frequency\n",
    "    return find_rating_candidates(\n",
    "        bit_arrays,\n",
    "        bit_index,\n",
    "        least_common_bit,\n",
    "        False\n",
    "    )"
   ]
  },
  {
   "cell_type": "markdown",
   "id": "9c1205d3-32a4-4ee0-95dd-ac794d4e5c02",
   "metadata": {},
   "source": [
    "### Testing Subsystem Rating Filters"
   ]
  },
  {
   "cell_type": "code",
   "execution_count": 6,
   "id": "a76e7b00-4a91-4a67-b618-22447c31d2d9",
   "metadata": {},
   "outputs": [],
   "source": [
    "assert find_subsystem_rating(\n",
    "    example_diagnostic_report,\n",
    "    find_oxygen_generator_rating_candidates\n",
    ") == 23\n",
    "\n",
    "assert find_subsystem_rating(\n",
    "    example_diagnostic_report,\n",
    "    find_co2_scrubber_rating_candidates\n",
    ") == 10"
   ]
  },
  {
   "cell_type": "markdown",
   "id": "0114dc80-fce8-4f06-871b-8773887118cf",
   "metadata": {},
   "source": [
    "### Answer"
   ]
  },
  {
   "cell_type": "code",
   "execution_count": 7,
   "id": "6f9e7459-6cbf-4a06-a211-1f8c52c3f9f9",
   "metadata": {},
   "outputs": [
    {
     "data": {
      "text/plain": [
       "2845944"
      ]
     },
     "execution_count": 7,
     "metadata": {},
     "output_type": "execute_result"
    }
   ],
   "source": [
    "find_life_support_rating(puzzle_input.as_text(day=3))"
   ]
  }
 ],
 "metadata": {
  "kernelspec": {
   "display_name": "Python 3 (ipykernel)",
   "language": "python",
   "name": "python3"
  },
  "language_info": {
   "codemirror_mode": {
    "name": "ipython",
    "version": 3
   },
   "file_extension": ".py",
   "mimetype": "text/x-python",
   "name": "python",
   "nbconvert_exporter": "python",
   "pygments_lexer": "ipython3",
   "version": "3.10.0"
  }
 },
 "nbformat": 4,
 "nbformat_minor": 5
}
